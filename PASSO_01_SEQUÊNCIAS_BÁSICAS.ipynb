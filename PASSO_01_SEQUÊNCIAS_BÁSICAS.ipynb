{
  "nbformat": 4,
  "nbformat_minor": 0,
  "metadata": {
    "colab": {
      "provenance": [],
      "collapsed_sections": [
        "kEBm4VBgwjhW",
        "YMYIvZgzw1C8",
        "EY1TBJdnxsw3",
        "41EuMI-B2-0I",
        "pWBij3MT47oO",
        "vcaD4jqk9sMP",
        "32fjuipVpyYl",
        "nas6eDwhqlyI",
        "Nv3b9oZMs4dK",
        "W25ztyeTuWiJ",
        "nmFMiWrAo80o",
        "YjVZgqz0_lBd",
        "8ff_ptTSAUjs",
        "4iHDFkJsA7a6",
        "I6YzE7w00M1e",
        "mO40Hu5d2zMc"
      ]
    },
    "kernelspec": {
      "name": "python3",
      "display_name": "Python 3"
    },
    "language_info": {
      "name": "python"
    }
  },
  "cells": [
    {
      "cell_type": "markdown",
      "source": [
        "# PASSO 01 - SEQUÊNCIAS BÁSICAS\n",
        "\n",
        "- `print()`: Comando saída. Exibe uma mensagem na tela.\n",
        "- `input()`: Comando entrada. Lê uma entrada do usuário.\n",
        "- `int()`: Converte um valor para inteiro.\n",
        "- `float()`: Converte um valor para ponto flutuante.\n",
        "- `str()`: Converte um valor para string.\n",
        "- Operadores aritméticos (`+`, `-`, `*`, `/`, etc.): Realizar cálculos.\n",
        "\n",
        "**Exemplo:**\n",
        "```python\n",
        "print(\"Olá, mundo!\")\n",
        "nome = input(\"Qual é o seu nome? \")\n",
        "idade = int(input(\"Quantos anos você tem? \"))\n",
        "print(f\"Olá, {nome}! Você tem {idade} anos.\")\n",
        "```"
      ],
      "metadata": {
        "id": "xqOQBIf9wZVy"
      }
    },
    {
      "cell_type": "markdown",
      "source": [
        "###1)\n",
        " Escreva um programa que mostre na tela a mensagem 'Olá, Mundo!'"
      ],
      "metadata": {
        "id": "kEBm4VBgwjhW"
      }
    },
    {
      "cell_type": "code",
      "source": [
        "print('Olá, Mundo!')        # exibe mensagem na tela\n"
      ],
      "metadata": {
        "id": "x4m3IuVbwneA"
      },
      "execution_count": null,
      "outputs": []
    },
    {
      "cell_type": "markdown",
      "source": [
        "###2)\n",
        "Faça um programa que leia o nome de uma pessoa e mostre uma mensagem de boasvindas para ela:\n",
        "Ex:\n",
        "Qual é o seu nome? João da Silva\n",
        "Olá João da Silva, é um prazer te conhecer!"
      ],
      "metadata": {
        "id": "YMYIvZgzw1C8"
      }
    },
    {
      "cell_type": "code",
      "source": [
        "nome = input('Qual é o seu nome? ')                    # exibe a mensagem no console e espera o usuário digitar. A resposta vai ser armazenada na váriavel \"nome\"\n",
        "\n",
        "print('Olá ' + nome + ', é um prazer te conhecer!')    # exibe mensagem no console concatenando várias strings (váriaveis)\n"
      ],
      "metadata": {
        "id": "yJMHvfZGw2EC"
      },
      "execution_count": null,
      "outputs": []
    },
    {
      "cell_type": "markdown",
      "source": [
        "###3)\n",
        "Crie um programa que leia o nome e o salário de um funcionário, mostrando no final uma mensagem.\n",
        "Ex:\n",
        "\n",
        "Nome do Funcionário: Maria do Carmo\n",
        "\n",
        "Salário: 1850,45\n",
        "\n",
        "O funcionário Maria do Carmo tem um salário de R$1850,45 em Junho."
      ],
      "metadata": {
        "id": "EY1TBJdnxsw3"
      }
    },
    {
      "cell_type": "code",
      "source": [
        "nome = input('Nome do Funcionário: ')\n",
        "salario = input('Salário: ')\n",
        "\n",
        "print('O funcionário'  + nome +  ' tem um salário de R$' + salario +  ' em Junho.')\n"
      ],
      "metadata": {
        "id": "dNgbwFWCxwyw"
      },
      "execution_count": null,
      "outputs": []
    },
    {
      "cell_type": "markdown",
      "source": [
        "###4)\n",
        "Desenvolva um algoritmo que leia dois números inteiros e mostre o somatório entre eles.\n",
        "Ex:\n",
        "\n",
        "Digite um valor: 8\n",
        "\n",
        "Digite outro valor: 5\n",
        "\n",
        "A soma entre 8 e 5 é igual a 13."
      ],
      "metadata": {
        "id": "41EuMI-B2-0I"
      }
    },
    {
      "cell_type": "code",
      "source": [
        "n1 = int(input('Digite um valor: '))           # receba um valor inteiro e armazena na váriavel\n",
        "n2 = int(input('Digite outro valor: '))        # int(input()) recebe como string e converte para interiro\n",
        "\n",
        "soma = n1 + n2                                 # soma as duas váriaveis N1 e N2 armazenando o resultado dentro da váriavel SOMA\n",
        "\n",
        "print(f'A soma entre {n1} e {n2} é igual a {soma}.')  # exibe mensagem no console concatenando várias strings com f-string\n"
      ],
      "metadata": {
        "id": "CReOa8qj3L9q"
      },
      "execution_count": null,
      "outputs": []
    },
    {
      "cell_type": "markdown",
      "source": [
        "###5)\n",
        "Faça um programa que leia as duas notas de um aluno em uma matéria e mostre na tela a sua média na disciplina.\n",
        "Ex:\n",
        "\n",
        "Nota 1: 4.5\n",
        "\n",
        "Nota 2: 8.5\n",
        "\n",
        "A média entre 4.5 e 8.5 é igual a 6.5"
      ],
      "metadata": {
        "id": "pWBij3MT47oO"
      }
    },
    {
      "cell_type": "code",
      "source": [
        "nota1 = float(input('Nota 1: '))  # receba um valor com ponto flutuante e armazene na váviavel\n",
        "nota2 = float(input('Nota 2: '))  # float(input) recebe como string e converte para float\n",
        "\n",
        "media = (nota1 + nota2) / 2       #  realiza o calculo armazenando na váriavel\n",
        "\n",
        "print(f'A média entre {nota1} e {nota2} é igual a {media}.')\n"
      ],
      "metadata": {
        "id": "xMf302pI4_8c"
      },
      "execution_count": null,
      "outputs": []
    },
    {
      "cell_type": "markdown",
      "source": [
        "###6)\n",
        "Faça um programa que leia um número inteiro e mostre o seu antecessor e seu sucessor.\n",
        "Ex:\n",
        "\n",
        "Digite um número: 9\n",
        "\n",
        "O antecessor de 9 é 8\n",
        "\n",
        "O sucessor de 9 é 10"
      ],
      "metadata": {
        "id": "vcaD4jqk9sMP"
      }
    },
    {
      "cell_type": "code",
      "source": [
        "num = int(input('Digite um número: '))\n",
        "\n",
        "antecessor = num - 1\n",
        "sucessor = num + 1\n",
        "\n",
        "print(f'O antecessor de {num} é {antecessor}.')\n",
        "print(f'O sucessor de {num} é {sucessor}.')\n"
      ],
      "metadata": {
        "id": "qNeTvumg92sX"
      },
      "execution_count": null,
      "outputs": []
    },
    {
      "cell_type": "markdown",
      "source": [
        "###7)\n",
        "Crie um algoritmo que leia um número real e mostre na tela o seu dobro e a\n",
        "sua terça parte.\n",
        "Ex:\n",
        "\n",
        "Digite um número: 3.5\n",
        "\n",
        "O dobro de 3.5 é 7.0\n",
        "\n",
        "A terça parte de 3.5 é 1.16666"
      ],
      "metadata": {
        "id": "32fjuipVpyYl"
      }
    },
    {
      "cell_type": "code",
      "source": [
        "num = float(input('Digite um número: '))\n",
        "\n",
        "dobro = num * 2\n",
        "parte = num / 3\n",
        "\n",
        "print(f'o dobro de {num} é {dobro}')\n",
        "print(f'A terça parte de {num} é {parte:.5f}') # mostra na tela foramtando a saida da variável \"PARTE\" com somente 5 casas após a virgula\n"
      ],
      "metadata": {
        "id": "1n7ixW68p5-W"
      },
      "execution_count": null,
      "outputs": []
    },
    {
      "cell_type": "markdown",
      "source": [
        "###8)\n",
        "Desenvolva um programa que leia uma distância em metros e mostre os valores\n",
        "relativos em outras medidas.\n",
        "Ex:\n",
        "\n",
        "Digite uma distância em metros: 185.72\n",
        "\n",
        "A distância de 185.72m corresponde a:\n",
        "\n",
        "0.18572 Km\n",
        "\n",
        "1.8572 Hm\n",
        "\n",
        "18.572 Dam\n",
        "\n",
        "1857.2 dm\n",
        "\n",
        "18572.0 cm\n",
        "\n",
        "185720.0 mm"
      ],
      "metadata": {
        "id": "nas6eDwhqlyI"
      }
    },
    {
      "cell_type": "code",
      "source": [
        "num = float(input('Digite a distância em metros: '))\n",
        "\n",
        "print(f'A distância de {num} corresponde a:')\n",
        "print(f'{num / 1000} Km')                      # realiza o calculo dentro da saida do programa\n",
        "print(f'{num / 100} Hm')\n",
        "print(f'{num / 10} Dam')\n",
        "print(f'{num * 10} dm')\n",
        "print(f'{num * 100} cm')\n",
        "print(f'{num * 1000} mm')\n"
      ],
      "metadata": {
        "id": "1c9nTFzTqu4V"
      },
      "execution_count": null,
      "outputs": []
    },
    {
      "cell_type": "markdown",
      "source": [
        "###9)\n",
        " Faça um algoritmo que leia quanto dinheiro uma pessoa tem na carteira\n",
        " (em R$) e mostre quantos dólares ela pode comprar.\n",
        "  Considere US\\$1,00 = R\\$3,45."
      ],
      "metadata": {
        "id": "Nv3b9oZMs4dK"
      }
    },
    {
      "cell_type": "code",
      "source": [
        "valor = float(input('Qual o valor você tem na carteira? R$ '))\n",
        "\n",
        "dolar = 3.45                  # constante não altera dentro do programa\n",
        "conversao = valor / dolar\n",
        "\n",
        "print(f'Convertendo R$ {valor} em dolar fica com US$ {conversao:.2f}')\n"
      ],
      "metadata": {
        "id": "XTY80zdms88J"
      },
      "execution_count": null,
      "outputs": []
    },
    {
      "cell_type": "markdown",
      "source": [
        "###10)\n",
        " Faça um algoritmo que leia a largura e altura de uma parede, calcule e\n",
        "mostre a área a ser pintada e a quantidade de tinta necessária para o serviço,\n",
        "sabendo que cada litro de tinta pinta uma área de 2metros quadrados."
      ],
      "metadata": {
        "id": "W25ztyeTuWiJ"
      }
    },
    {
      "cell_type": "code",
      "source": [
        "largura = float(input('Largura (em metros): '))\n",
        "altura = float(input('Altura (em metros): '))\n",
        "\n",
        "area = largura * altura\n",
        "tinta = area / 2\n",
        "\n",
        "print(f'Para uma parede de {area:.2f} é necessário {tinta:.2f} litros de tinta para pintura.')\n"
      ],
      "metadata": {
        "id": "wlT92o1TubOX"
      },
      "execution_count": null,
      "outputs": []
    },
    {
      "cell_type": "markdown",
      "source": [
        "###11)\n",
        "Desenvolva uma lógica que leia os valores de A, B e C de uma equação do\n",
        "segundo grau e mostre o valor de Delta."
      ],
      "metadata": {
        "id": "nmFMiWrAo80o"
      }
    },
    {
      "cell_type": "code",
      "source": [
        "# formula: ax² + bx + c = 0    EQUAÇÃO\n",
        "# Δ = b2 – 4ac   DELTA\n",
        "\n",
        "import math          # importando um módulo que fornece acesso as funções matemáticas\n",
        "\n",
        "a = float(input('Valor de A: '))\n",
        "b = float(input('Valor de B: '))\n",
        "c = float(input('Valor de C: '))\n",
        "\n",
        "delta = b**2 - 4*a*c\n",
        "\n",
        "print(f'O valor de Delta é: {delta}')\n",
        "\n",
        "if delta >= 0:\n",
        "    x1 = (-b + math.sqrt(delta)) / (2*a)\n",
        "    x2 = (-b - math.sqrt(delta)) / (2*a)\n",
        "    print(f'O valor de X1 é: {x1}')\n",
        "    print(f'O valor de X2 é: {x2}')\n",
        "else:\n",
        "    print('A equação não possui raízes reais.')\n"
      ],
      "metadata": {
        "id": "f8ySnzoopB1P"
      },
      "execution_count": null,
      "outputs": []
    },
    {
      "cell_type": "markdown",
      "source": [
        "###12)\n",
        "Crie um programa que leia o preço de um produto, calcule e mostre o seu\n",
        "PREÇO PROMOCIONAL, com 5% de desconto."
      ],
      "metadata": {
        "id": "YjVZgqz0_lBd"
      }
    },
    {
      "cell_type": "code",
      "source": [
        "produto = float(input('Digite o valor do produto: '))\n",
        "\n",
        "valor_promocional = produto * 0.95             # calculando o valor promocional\n",
        "\n",
        "print(f'PREÇO PROMOCIONAL: {valor_promocional:.2f}')\n"
      ],
      "metadata": {
        "id": "_mMAxcEH_qnx"
      },
      "execution_count": null,
      "outputs": []
    },
    {
      "cell_type": "markdown",
      "source": [
        "###13)\n",
        "Faça um algoritmo que leia o salário de um funcionário, calcule e mostre o\n",
        "seu novo salário, com 15% de aumento."
      ],
      "metadata": {
        "id": "8ff_ptTSAUjs"
      }
    },
    {
      "cell_type": "code",
      "source": [
        "salario = float(input('Digite o valor do salário: '))\n",
        "\n",
        "novo_salario = salario * 1.15\n",
        "\n",
        "print(f'Novo salário: R$ {novo_salario:.2f}')\n"
      ],
      "metadata": {
        "id": "ydaYcI9zAYBt"
      },
      "execution_count": null,
      "outputs": []
    },
    {
      "cell_type": "markdown",
      "source": [
        "###14)\n",
        "A locadora de carros precisa da sua ajuda para cobrar seus serviços.\n",
        "Escreva um programa que pergunte a quantidade de Km percorridos por um carro alugado e a quantidade de dias pelos quais ele foi alugado.\n",
        "Calcule o preço total a pagar, sabendo que o carro custa R\\$ 90 por dia e R$0,20 por Km rodado."
      ],
      "metadata": {
        "id": "4iHDFkJsA7a6"
      }
    },
    {
      "cell_type": "code",
      "source": [
        "km_rodado = float(input('Informe Km percorrido: '))\n",
        "dias_alugado = int(input('Dias locados: '))\n",
        "\n",
        "total_pagar = (dias_alugado * 90) + (km_rodado * 0.20)\n",
        "\n",
        "print(f'Valor a pagar R$ {total_pagar:.2f}')"
      ],
      "metadata": {
        "id": "CWiyQ0YHA2dy"
      },
      "execution_count": null,
      "outputs": []
    },
    {
      "cell_type": "markdown",
      "source": [
        "###15)\n",
        "Crie um programa que leia o número de dias trabalhados em um mês e mostre o salário de um funcionário, sabendo que ele trabalha 8 horas por dia e ganha R$25 por hora trabalhada."
      ],
      "metadata": {
        "id": "I6YzE7w00M1e"
      }
    },
    {
      "cell_type": "code",
      "source": [
        "dias_trabalhado = int(input('Dias trabalhados: '))\n",
        "\n",
        "salario_total = dias_trabalhado * 8 * 25.00\n",
        "\n",
        "print(f'Total salário a pagar R$ {salario_total:.2f}')\n"
      ],
      "metadata": {
        "id": "V3szPWE80Q2n"
      },
      "execution_count": null,
      "outputs": []
    },
    {
      "cell_type": "markdown",
      "source": [
        "### 16)\n",
        "Escreva um programa para calcular a redução do tempo de vida de um\n",
        "fumante. Pergunte a quantidade de cigarros fumados por dias e quantos anos ele\n",
        "já fumou. Considere que um fumante perde 10 min de vida a cada cigarro. Calcule\n",
        "quantos dias de vida um fumante perderá e exiba o total em dias."
      ],
      "metadata": {
        "id": "mO40Hu5d2zMc"
      }
    },
    {
      "cell_type": "code",
      "source": [
        "cigarros_pordia = int(input('Cigarros funados por dia: '))\n",
        "anos_fumando = int(input('Anos fumando: '))\n",
        "\n",
        "dias_vida_perdida = (cigarros_pordia * anos_fumando * 365 * 10) / 1440\n",
        "\n",
        "print(f'Total de dias perdidos: {dias_vida_perdida:.0f}')\n"
      ],
      "metadata": {
        "id": "JUBvQuWv3AKl"
      },
      "execution_count": null,
      "outputs": []
    }
  ]
}