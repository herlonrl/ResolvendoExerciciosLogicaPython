{
  "nbformat": 4,
  "nbformat_minor": 0,
  "metadata": {
    "colab": {
      "provenance": [],
      "collapsed_sections": [
        "wtlBIq2ahWz6",
        "x5KG3T_HhdW0",
        "W-oeAYdUitxj",
        "Yx062rWzjCLD",
        "A2ScrGD6jOfQ",
        "WubzT0d3jtED",
        "q5WVSJpZjw78",
        "QfWWqH_Aj3IX",
        "vIyaDch6j4bv",
        "SVlOxBADkCFQ"
      ]
    },
    "kernelspec": {
      "name": "python3",
      "display_name": "Python 3"
    },
    "language_info": {
      "name": "python"
    }
  },
  "cells": [
    {
      "cell_type": "markdown",
      "source": [
        "# PASSO 09 – FUNÇÕES/PROCEDIMENTOS\n",
        "\n",
        "Bloco de código que executa uma tarefa específica.\n",
        "\n",
        "Podem receber entradas(argumentos).\n",
        "\n",
        "Podem retornar valor de saída.\n",
        "\n",
        "  - `def`: Definir funções/procedimentos.\n",
        "  - Passagem de parâmetros para funções.\n",
        "  - Combinar lógica interna com funções reutilizáveis.\n",
        "\n",
        "**Exemplo:**\n",
        "```python\n",
        "def saudacao(nome):\n",
        "    print(f\"Olá, {nome}!\")\n",
        "\n",
        "saudacao(\"Maria\")\n",
        "```"
      ],
      "metadata": {
        "id": "wtlBIq2ahWz6"
      }
    },
    {
      "cell_type": "markdown",
      "source": [
        "###86)\n",
        "Crie um programa que tenha um procedimento Gerador() que, quando chamado,\n",
        "mostre a mensagem \"Olá, Mundo!\" com algum componente visual (linhas)\n",
        "Ex:\n",
        "Ao chamar Gerador() aparece:\n",
        "\n",
        "+-------=======------+\n",
        "\n",
        "Olá, Mundo!\n",
        "\n",
        "+-------=======------+"
      ],
      "metadata": {
        "id": "x5KG3T_HhdW0"
      }
    },
    {
      "cell_type": "code",
      "source": [
        "\n",
        "def gerador1():\n",
        "  print('+-------=======------+')\n",
        "  print('Olá, Mundo')\n",
        "  print('+-------=======------+')\n",
        "\n",
        "gerador1()\n"
      ],
      "metadata": {
        "id": "RUqtFbd7hc1v"
      },
      "execution_count": null,
      "outputs": []
    },
    {
      "cell_type": "markdown",
      "source": [
        "###87)\n",
        "Crie um programa que melhore o procedimento Gerador() da questão anterior\n",
        "para que mostre uma mensagem personalizada, passada como parâmetro.\n",
        "Ex: Ao chamar Gerador(\"Aprendendo Python\") aparece:\n",
        "\n",
        "+-------=======------+\n",
        "\n",
        "Aprendendo Python\n",
        "\n",
        "+-------=======------+"
      ],
      "metadata": {
        "id": "W-oeAYdUitxj"
      }
    },
    {
      "cell_type": "code",
      "source": [
        "def gerador2(mensagem):\n",
        "  print('+-------=======------+')\n",
        "  print(f'Aprendendo, {mensagem}')\n",
        "  print('+-------=======------+')\n",
        "\n",
        "gerador2('Python')\n"
      ],
      "metadata": {
        "id": "7cODhRS0i7AN"
      },
      "execution_count": null,
      "outputs": []
    },
    {
      "cell_type": "markdown",
      "source": [
        "###88)\n",
        "Crie um programa que melhore o procedimento Gerador() da questão anterior\n",
        "para que mostre uma mensagem vário\n",
        "Ex: Ao chamar Gerador(\"Aprendendo Python\", 4) aparece:\n",
        "\n",
        "+-------=======------+\n",
        "\n",
        "Aprendendo Python\n",
        "\n",
        "Aprendendo Python\n",
        "\n",
        "Aprendendo Python\n",
        "\n",
        "Aprendendo Python\n",
        "\n",
        "+-------=======------+"
      ],
      "metadata": {
        "id": "Yx062rWzjCLD"
      }
    },
    {
      "cell_type": "code",
      "source": [
        "def gerador3(mensagem, repet):\n",
        "  print('+-------=======------+')\n",
        "  for i in range(repet):\n",
        "    print(f'Aprendendo {mensagem}')\n",
        "  print('+-------=======------+')\n",
        "\n",
        "gerador3('Lógica', 4)\n"
      ],
      "metadata": {
        "id": "8ZIRNIeajJgT"
      },
      "execution_count": null,
      "outputs": []
    },
    {
      "cell_type": "markdown",
      "source": [
        "###89)\n",
        "Crie um programa que melhore o procedimento Gerador() da questão anterior\n",
        "para que o programador possa escolher uma entre três bordas:\n",
        "\n",
        "+-------=======------+ Borda 1\n",
        "\n",
        "~~~~~~~~ ::::::: ~~~~~~~ Borda 2\n",
        "\n",
        "<<<<<<<<------->>>>>>> Borda 3\n",
        "\n",
        "Ex: Uma chamada válida seria Gerador(\"Pyhton & Lógica\", 3, 2)\n",
        "\n",
        "~~~~~~~~:::::::~~~~~~~\n",
        "\n",
        "Pyhton & Lógica\n",
        "\n",
        "Pyhton & Lógica\n",
        "\n",
        "Pyhton & Lógica\n",
        "\n",
        "~~~~~~~~:::::::~~~~~~~"
      ],
      "metadata": {
        "id": "A2ScrGD6jOfQ"
      }
    },
    {
      "cell_type": "code",
      "source": [
        "# Definindo as bordas em uma lista\n",
        "bordas = [\n",
        "    '+-------=======------+',  # Borda 1\n",
        "    '~~~~~~~~:::::::~~~~~~~',  # Borda 2\n",
        "    '<<<<<<<<------->>>>>>>'   # Borda 3\n",
        "]\n",
        "\n",
        "def gerador(mensagem, repete, borda_index):\n",
        "    if 1 <= borda_index <= len(bordas):  # Verifica se o índice da borda é válido\n",
        "        borda = bordas[borda_index - 1]\n",
        "        print(borda)\n",
        "        for _ in range(repete):\n",
        "            print(mensagem)\n",
        "        print(borda)\n",
        "    else:\n",
        "        print(\"Índice de borda inválido. Escolha um valor entre 1 e 3.\")\n",
        "\n",
        "# Exemplo de chamada\n",
        "gerador('Python & Lógica', 2, 3)\n"
      ],
      "metadata": {
        "id": "_Qia8qrEjbis"
      },
      "execution_count": null,
      "outputs": []
    },
    {
      "cell_type": "markdown",
      "source": [
        "###90)\n",
        "Desenvolva um algoritmo que leia dois valores pelo teclado e passe esses\n",
        "valores para um procedimento Somador() que vai calcular e mostrar a soma entre\n",
        "eles."
      ],
      "metadata": {
        "id": "WubzT0d3jtED"
      }
    },
    {
      "cell_type": "code",
      "source": [
        "def somador(val1, val2):\n",
        "    print(\"Soma: \", val1 + val2)\n",
        "\n",
        "# Leitura dos valores\n",
        "valor1 = int(input('Primeiro valor: '))\n",
        "valor2 = int(input('Segundo valor: '))\n",
        "\n",
        "# Chamada da função\n",
        "somador(valor1, valor2)\n"
      ],
      "metadata": {
        "id": "8rJMeARLjuNt"
      },
      "execution_count": null,
      "outputs": []
    },
    {
      "cell_type": "markdown",
      "source": [
        "###91)\n",
        "Desenvolva um algoritmo que leia dois valores pelo teclado e passe esses\n",
        "valores para um procedimento Maior() que vai verificar qual deles é o maior e\n",
        "mostrá-lo na tela. Caso os dois valores sejam iguais, mostrar uma mensagem\n",
        "informando essa característica."
      ],
      "metadata": {
        "id": "q5WVSJpZjw78"
      }
    },
    {
      "cell_type": "code",
      "source": [
        "def maior(val1, val2):\n",
        "    if val1 == val2:\n",
        "        print('Valores iguais')\n",
        "    elif val1 > val2:\n",
        "        print(f'{val1} é o maior valor')\n",
        "    else:\n",
        "        print(f'{val2} é o maior valor')\n",
        "\n",
        "valor1 = int(input('Primeiro valor: '))\n",
        "valor2 = int(input('Segundo valor: '))\n",
        "\n",
        "maior(valor1, valor2)\n"
      ],
      "metadata": {
        "id": "vUth6pYKjypW"
      },
      "execution_count": null,
      "outputs": []
    },
    {
      "cell_type": "markdown",
      "source": [
        "###92)\n",
        "Crie uma lógica que leia um número inteiro e passe para um procedimento\n",
        "ParOuImpar() que vai verificar e mostrar na tela se o valor passado como\n",
        "parâmetro é PAR ou ÍMPAR."
      ],
      "metadata": {
        "id": "QfWWqH_Aj3IX"
      }
    },
    {
      "cell_type": "code",
      "source": [
        "def par_ou_impar(num):\n",
        "    if num % 2 == 0:\n",
        "        print('PAR')\n",
        "    else:\n",
        "        print('ÍMPAR')\n",
        "\n",
        "\n",
        "numero = int(input('Número: '))\n",
        "\n",
        "par_ou_impar(numero)\n"
      ],
      "metadata": {
        "id": "ZnmXglPNj7_B"
      },
      "execution_count": null,
      "outputs": []
    },
    {
      "cell_type": "markdown",
      "source": [
        "###93)\n",
        "Faça um programa que tenha um procedimento chamado Contador() que recebe\n",
        "três valores como parâmetro: o início, o fim e o incremento de uma contagem. O\n",
        "programa principal deve solicitar a digitação desses valores e passá-los ao\n",
        "procedimento, que vai mostrar a contagem na tela.\n",
        "Ex: Para os valores de início (4), fim (20) e incremento(3) teremos\n",
        "Contador(4, 20, 3) vai mostrar na tela 4 >> 7 >> 10 >> 13 >> 16 >> 19 >> FIM"
      ],
      "metadata": {
        "id": "vIyaDch6j4bv"
      }
    },
    {
      "cell_type": "code",
      "source": [
        "def contador(inicio, fim, incremento):\n",
        "    for i in range(inicio, fim+1, incremento):\n",
        "        print(i, end=' >> ')\n",
        "    print('FIM')\n",
        "\n",
        "inicio = int(input('Início: '))\n",
        "fim = int(input('Fim: '))\n",
        "incremento = int(input('Incremento: '))\n",
        "print()\n",
        "\n",
        "contador(inicio, fim, incremento)\n"
      ],
      "metadata": {
        "id": "Yx_nYt1qkIR0"
      },
      "execution_count": null,
      "outputs": []
    },
    {
      "cell_type": "markdown",
      "source": [
        "###94)\n",
        "Desenvolva um aplicativo que tenha um procedimento chamado\n",
        "Fibonacci() que recebe um único valor inteiro como parâmetro, indicando quantos\n",
        "termos da sequência serão mostrados na tela. O seu procedimento deve receber\n",
        "esse valor e mostrar a quantidade de elementos solicitados.\n",
        "\n",
        "Obs: Use os exercícios 70 e 75 para te ajudar na solução\n",
        "\n",
        "Ex:\n",
        "\n",
        "Fibonacci(5) vai gerar 1 >> 1 >> 2 >> 3 >> 5 >> FIM\n",
        "\n",
        "Fibonacci(9) vai gerar 1 >> 1 >> 2 >> 3 >> 5 >> 8 >> 13 >> 21 >> 34 >> FIM"
      ],
      "metadata": {
        "id": "SVlOxBADkCFQ"
      }
    },
    {
      "cell_type": "code",
      "source": [
        "def fibonacci(n):\n",
        "    a, b = 1, 1\n",
        "    for _ in range(n):\n",
        "        print(a, end=' >> ')\n",
        "        a, b = b, a + b\n",
        "    print('FIM')\n",
        "\n",
        "numero = int(input('Número: '))\n",
        "\n",
        "fibonacci(numero)\n"
      ],
      "metadata": {
        "id": "SNRXru3MARYQ"
      },
      "execution_count": null,
      "outputs": []
    }
  ]
}