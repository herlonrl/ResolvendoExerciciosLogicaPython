{
  "nbformat": 4,
  "nbformat_minor": 0,
  "metadata": {
    "colab": {
      "provenance": [],
      "collapsed_sections": [
        "LswuLbkdtWvd",
        "n9NOuWi9tn7h",
        "TlAiuqlpt1jO"
      ]
    },
    "kernelspec": {
      "name": "python3",
      "display_name": "Python 3"
    },
    "language_info": {
      "name": "python"
    }
  },
  "cells": [
    {
      "cell_type": "markdown",
      "source": [
        "# PASSO 06 – REPETIÇÃO COM FAÇA ENQUANTO\n",
        "\n",
        "- Laços simulando um \"faça enquanto\" com a lógica `while True` e `break`.\n",
        "  - `while True`: Inicia um loop infinito.\n",
        "  - `break`: Interrompe o loop imediatamente.\n",
        "  - `if` combinado com `break` para encerrar o loop\n",
        "\n",
        "\n",
        "**Exemplo:**\n",
        "```python\n",
        "import random\n",
        "\n",
        "numero_secreto = random.randint(1, 10)\n",
        "tentativa = 0\n",
        "while True:\n",
        "    tentativa = int(input(\"Adivinhe o número (1-10): \"))\n",
        "    if tentativa == numero_secreto:\n",
        "        print(\"Parabéns! Você acertou.\")\n",
        "        break\n",
        "    else:\n",
        "        print(\"Tente novamente.\")\n",
        "```"
      ],
      "metadata": {
        "id": "1fvBvj0itPQI"
      }
    },
    {
      "cell_type": "markdown",
      "source": [
        "###61)\n",
        "Crie um programa que mostre na tela a seguinte contagem, usando a estrutura “faça enquanto”\n",
        "\n",
        "0 3 6 9 12 15 18 21 24 27 30 Acabou!"
      ],
      "metadata": {
        "id": "LswuLbkdtWvd"
      }
    },
    {
      "cell_type": "code",
      "source": [
        "cont = 0\n",
        "print(cont, end=' ')\n",
        "\n",
        "while True:\n",
        "    cont += 3\n",
        "    print(cont, end=' ')\n",
        "    if cont >= 30:\n",
        "        break\n",
        "\n",
        "print('Acabou!')\n"
      ],
      "metadata": {
        "id": "XHvtGDQUtg7C"
      },
      "execution_count": null,
      "outputs": []
    },
    {
      "cell_type": "markdown",
      "source": [
        "###62)\n",
        "Faça um programa usando a estrutura “faça enquanto” que leia a idade de\n",
        "várias pessoas. A cada laço, você deverá perguntar para o usuário se ele quer ou\n",
        "não continuar a digitar dados. No final, quando o usuário decidir parar, mostre\n",
        "na tela:\n",
        "\n",
        "a) Quantas idades foram digitadas\n",
        "\n",
        "b) Qual é a média entre as idades digitadas\n",
        "\n",
        "c) Quantas pessoas tem 21 anos ou mais."
      ],
      "metadata": {
        "id": "n9NOuWi9tn7h"
      }
    },
    {
      "cell_type": "code",
      "source": [
        "cont = total_idade = cont21 = 0\n",
        "\n",
        "while True:\n",
        "    idade = int(input('Idade: '))\n",
        "    cont += 1\n",
        "    total_idade += idade\n",
        "\n",
        "    if idade >= 21:\n",
        "        cont21 += 1\n",
        "\n",
        "    if input('Continua [S/N]: ').upper() == 'N':\n",
        "        break\n",
        "\n",
        "media_idade = total_idade / cont if cont > 0 else 0\n",
        "\n",
        "print(f'{cont} idades foram digitadas.')\n",
        "print(f'Média entre as idades digitadas: {media_idade:.2f}')\n",
        "print(f'{cont21} pessoa(s) tem 21 anos ou mais.')\n"
      ],
      "metadata": {
        "id": "zncreRt7tsG9"
      },
      "execution_count": null,
      "outputs": []
    },
    {
      "cell_type": "markdown",
      "source": [
        "###63)\n",
        "Crie um programa usando a estrutura “faça enquanto” que leia vários números.\n",
        "A cada laço, pergunte se o usuário quer continuar ou não. No final, mostre na\n",
        "tela:\n",
        "\n",
        "a) O somatório entre todos os valores\n",
        "\n",
        "b) Qual foi o menor valor digitado\n",
        "\n",
        "c) A média entre todos os valores\n",
        "\n",
        "d) Quantos valores são pares"
      ],
      "metadata": {
        "id": "TlAiuqlpt1jO"
      }
    },
    {
      "cell_type": "code",
      "source": [
        "cont = soma = soma_par = 0\n",
        "menor_num = float('inf')\n",
        "\n",
        "while True:\n",
        "    num = float(input('Número: '))\n",
        "    soma += num\n",
        "    cont += 1\n",
        "    menor_num = min(menor_num, num)\n",
        "\n",
        "    if num % 2 == 0:\n",
        "        soma_par += 1\n",
        "\n",
        "    if input('Continuar [S/N]: ').upper() == 'N':\n",
        "        break\n",
        "\n",
        "media = soma / cont if cont > 0 else 0\n",
        "\n",
        "print(f'Soma de todos os valores: {soma}')\n",
        "print(f'{menor_num} é o menor número digitado.')\n",
        "print(f'Média dos números digitados: {media:.2f}')\n",
        "print(f'Valores pares: {soma_par}')\n"
      ],
      "metadata": {
        "id": "Nyr5cxVJt5aS"
      },
      "execution_count": null,
      "outputs": []
    }
  ]
}