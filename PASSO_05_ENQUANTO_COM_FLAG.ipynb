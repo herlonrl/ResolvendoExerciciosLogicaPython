{
  "nbformat": 4,
  "nbformat_minor": 0,
  "metadata": {
    "colab": {
      "provenance": [],
      "collapsed_sections": [
        "KW5G8CU4AZih",
        "JjxQM9JZAgBB",
        "v1WvtJsWA9bL",
        "5pLGVvU2BD0l",
        "rH_EK_NFBMQB"
      ]
    },
    "kernelspec": {
      "name": "python3",
      "display_name": "Python 3"
    },
    "language_info": {
      "name": "python"
    }
  },
  "cells": [
    {
      "cell_type": "markdown",
      "source": [
        "# PASSO 05 – ENQUANTO COM FLAG\n",
        "\n",
        "- Uso de uma variável como \"flag\" para controle do loop.\n",
        "  - `while`: Inicia um loop que continua enquanto a condição for verdadeira.\n",
        "  - `break`: Interrompe o loop imediatamente.\n",
        "\n",
        "\n",
        "**Exemplo:**\n",
        "```python\n",
        "soma = 0\n",
        "while True:\n",
        "    numero = int(input(\"Digite um número (0 para sair): \"))\n",
        "    if numero == 0:\n",
        "        break\n",
        "    soma += numero\n",
        "print(f\"A soma dos números é {soma}\")\n",
        "```"
      ],
      "metadata": {
        "id": "KW5G8CU4AZih"
      }
    },
    {
      "cell_type": "markdown",
      "source": [
        "###56)\n",
        "Crie um programa que leia vários números pelo teclado e mostre no final o\n",
        "somatório entre eles.\n",
        "\n",
        "Obs: O programa será interrompido quando o número 1111 for digitado"
      ],
      "metadata": {
        "id": "JjxQM9JZAgBB"
      }
    },
    {
      "cell_type": "code",
      "source": [
        "soma = 0\n",
        "\n",
        "while True:\n",
        "  num = int(input('Digite um numero (1111 p/sair): '))\n",
        "  if num == 1111:\n",
        "    break\n",
        "\n",
        "  soma += num\n",
        "\n",
        "print(soma)\n"
      ],
      "metadata": {
        "id": "BneoqoZ0AkSv"
      },
      "execution_count": null,
      "outputs": []
    },
    {
      "cell_type": "markdown",
      "source": [
        "###57)\n",
        "Desenvolva um aplicativo que leia o salário e o sexo de vários funcionários.\n",
        "No final, mostre o total de salários pagos aos homens e o total pago às\n",
        "mulheres. O programa vai perguntar ao usuário se ele quer continuar ou não\n",
        "sempre que ler os dados de um funcionário."
      ],
      "metadata": {
        "id": "v1WvtJsWA9bL"
      }
    },
    {
      "cell_type": "code",
      "source": [
        "salario_homens = salario_mulheres = 0.0\n",
        "\n",
        "while True:\n",
        "    salario = float(input('Salário: R$ '))\n",
        "    sexo = input('Sexo (F/M): ').upper()\n",
        "\n",
        "    if sexo == 'F':\n",
        "        salario_mulheres += salario\n",
        "    elif sexo == 'M':\n",
        "        salario_homens += salario\n",
        "\n",
        "    if input('Deseja continuar (S/N): ').upper() == 'N':\n",
        "        break\n",
        "\n",
        "print(f'Total salário de homens: R$ {salario_homens:.2f}')\n",
        "print(f'Total salário de mulheres: R$ {salario_mulheres:.2f}')\n",
        "\n"
      ],
      "metadata": {
        "id": "zlz-kO11A_CF"
      },
      "execution_count": null,
      "outputs": []
    },
    {
      "cell_type": "markdown",
      "source": [
        "###58)\n",
        "Faça um algoritmo que leia a idade de vários alunos de uma turma. O programa\n",
        "vai parar quando for digitada a idade 999. No final, mostre quantos alunos\n",
        "existem na turma e qual é a média de idade do grupo."
      ],
      "metadata": {
        "id": "5pLGVvU2BD0l"
      }
    },
    {
      "cell_type": "code",
      "source": [
        "cont = total_idade = 0\n",
        "\n",
        "while True:\n",
        "    idade = int(input('Digite idade (999 p/ parar): '))\n",
        "    if idade == 999:\n",
        "        break\n",
        "    cont += 1\n",
        "    total_idade += idade\n",
        "\n",
        "media_idade = total_idade / cont if cont > 0 else 0\n",
        "\n",
        "print(f'Esta turma tem: {cont} alunos')\n",
        "print(f'Com a média de idade de: {media_idade:.2f} anos')\n"
      ],
      "metadata": {
        "id": "tL_KTYQqBG7y"
      },
      "execution_count": null,
      "outputs": []
    },
    {
      "cell_type": "markdown",
      "source": [
        "###59)\n",
        "Crie um programa que leia o sexo e a idade de várias pessoas. O programa vai\n",
        "perguntar se o usuário quer continuar ou não a cada pessoa. No final, mostre:\n",
        "\n",
        "a) qual é a maior idade lida\n",
        "\n",
        "b) quantos homens foram cadastrados\n",
        "\n",
        "c) qual é a idade da mulher mais jovem\n",
        "\n",
        "d) qual é a média de idade entre os homens\n"
      ],
      "metadata": {
        "id": "rH_EK_NFBMQB"
      }
    },
    {
      "cell_type": "code",
      "source": [
        "cont = cont_homens = idade_homens = 0\n",
        "mulher_joven = float('inf')      # Inicializa a idade da mulher mais jovem com infinito positivo\n",
        "maior_idade = float('-inf')      # Inicializa a maior idade com infinito negativo\n",
        "menor_idade = float('inf')       # Inicializa a menor idade com infinito positivo\n",
        "\n",
        "while True:\n",
        "    sexo = input('Sexo M/F: ').upper()\n",
        "    idade = int(input('Idade: '))\n",
        "    continua = input('Continuar S/N: ').upper()\n",
        "\n",
        "    cont += 1\n",
        "# Usando função 'max' para comparar maior_idade e idade. Atribui o maior valor entre os dois à variável maior_idade. Isso garante que maior_idade sempre contenha o maior valor encontrado até o momento.\n",
        "    maior_idade = max(maior_idade, idade)     # Atualizando a variável maior_idade com o maior valor entre maior_idade e idade\n",
        "    menor_idade = min(menor_idade, idade)\n",
        "\n",
        "    if sexo == 'M':\n",
        "        cont_homens += 1\n",
        "        idade_homens += idade\n",
        "    elif sexo == 'F':\n",
        "        mulher_joven = min(mulher_joven, idade)\n",
        "\n",
        "    if continua == 'N':\n",
        "        break\n",
        "\n",
        "media_homens = idade_homens / cont_homens if cont_homens != 0 else 0\n",
        "\n",
        "print(f'\\nMaior idade lida: {maior_idade}')\n",
        "print(f'Quantidade de homens: {cont_homens}')\n",
        "print(f'Idade da mulher mais jovem: {mulher_joven}')\n",
        "print(f'Média de idade dos homens: {media_homens:.2f}')\n"
      ],
      "metadata": {
        "id": "PURlqxtGBTsm"
      },
      "execution_count": null,
      "outputs": []
    },
    {
      "cell_type": "markdown",
      "source": [
        "###60)\n",
        "Desenvolva um algoritmo que leia o nome, a idade e o sexo de várias pessoas.\n",
        "O programa vai perguntar se o usuário quer ou não continuar. No final, mostre:\n",
        "\n",
        "a) O nome da pessoa mais velha\n",
        "\n",
        "b) O nome da mulher mais jovem\n",
        "\n",
        "c) A média de idade do grupo\n",
        "\n",
        "d) Quantos homens tem mais de 30 anos\n",
        "\n",
        "e) Quantas mulheres tem menos de 18 anos"
      ],
      "metadata": {
        "id": "eJpwVF9OBbyS"
      }
    },
    {
      "cell_type": "code",
      "source": [
        "cont = total_idade = menos_18 = mais_30 = 0\n",
        "maior_idade = float('-inf')\n",
        "menor_idade = float('inf')\n",
        "nome_velho = nome_nova = ''\n",
        "\n",
        "while True:\n",
        "    nome = input('Nome: ')\n",
        "    idade = int(input('Idade: '))\n",
        "\n",
        "    sexo = input('Sexo M/F: ').upper()\n",
        "    while sexo not in ['F', 'M']:\n",
        "        print(\"Entrada inválida. Por favor, digite 'F' para feminino ou 'M' para masculino.\")\n",
        "        sexo = input('Sexo M/F: ').upper()\n",
        "\n",
        "    continua = input('Continuar S/N: ').upper()\n",
        "    while continua not in ['S', 'N']:\n",
        "        print(\"Entrada inválida. Por favor, digite 'S' para sim ou 'N' para não.\")\n",
        "        continua = input('Continuar S/N: ').upper()\n",
        "\n",
        "    cont += 1\n",
        "    total_idade += idade\n",
        "\n",
        "    if idade > maior_idade:\n",
        "        maior_idade = idade\n",
        "        nome_velho = nome\n",
        "\n",
        "    if sexo == 'F':\n",
        "        if idade < menor_idade:\n",
        "            menor_idade = idade\n",
        "            nome_nova = nome\n",
        "        if idade < 18:\n",
        "            menos_18 += 1\n",
        "\n",
        "    if sexo == 'M' and idade > 30:\n",
        "        mais_30 += 1\n",
        "\n",
        "    if continua == 'N':\n",
        "        break\n",
        "\n",
        "media_idade = total_idade / cont if cont > 0 else 0\n",
        "\n",
        "print()\n",
        "print(f'Nome da pessoa mais velha: {nome_velho}')\n",
        "print(f'Nome da mulher mais jovem: {nome_nova}')\n",
        "print(f'Média de idade do grupo: {media_idade:.2f}')\n",
        "print(f'Homens com mais de 30 anos: {mais_30}')\n",
        "print(f'Mulheres com menos de 18 anos: {menos_18}')\n"
      ],
      "metadata": {
        "id": "j4ACcGC1BgGt"
      },
      "execution_count": null,
      "outputs": []
    }
  ]
}