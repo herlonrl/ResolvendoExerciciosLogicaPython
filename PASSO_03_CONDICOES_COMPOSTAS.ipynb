{
  "nbformat": 4,
  "nbformat_minor": 0,
  "metadata": {
    "colab": {
      "provenance": [],
      "collapsed_sections": [
        "dv7uAuTEmdzy",
        "7Zn6XSGvmmL0",
        "a7yDRPFipIND",
        "vy32L5MBrwQr",
        "pWClwDVMr5pm",
        "JXPxX7N5xvCU",
        "E_kPQNKAVOZ8",
        "7fYkXe3hVjNI",
        "86GT4PmYdAyK",
        "tQCoaKEThzEv",
        "sF4BQE2YZCss",
        "2xtGN0nMcsop"
      ]
    },
    "kernelspec": {
      "name": "python3",
      "display_name": "Python 3"
    },
    "language_info": {
      "name": "python"
    }
  },
  "cells": [
    {
      "cell_type": "markdown",
      "source": [
        "# PASSO 03 - CONDIÇÕES COMPOSTAS\n",
        "\n",
        "- Estruturas de controle de fluxo combinadas com cálculos e lógica.\n",
        "  - `if`: Inicia uma condição.\n",
        "  - `elif`: Define uma nova condição se a anterior for falsa.\n",
        "  - `else`: Define o bloco de código a ser executado se todas as condições anteriores forem falsas.\n",
        "\n",
        "\n",
        "**Exemplos:**\n",
        "```python\n",
        "nota = float(input(\"Digite a sua nota: \"))\n",
        "if nota >= 7:\n",
        "    print(\"Aprovado\")\n",
        "elif 5 <= nota < 7:\n",
        "    print(\"Recuperação\")\n",
        "else:\n",
        "    print(\"Reprovado\")\n",
        "```"
      ],
      "metadata": {
        "id": "dv7uAuTEmdzy"
      }
    },
    {
      "cell_type": "markdown",
      "source": [
        "###26)\n",
        "Escreva um algoritmo que leia dois números inteiros e compare-os, mostrando\n",
        "na tela uma das mensagens abaixo:\n",
        "- O primeiro valor é o maior\n",
        "- O segundo valor é o maior\n",
        "- Não existe valor maior, os dois são iguais"
      ],
      "metadata": {
        "id": "7Zn6XSGvmmL0"
      }
    },
    {
      "cell_type": "code",
      "source": [
        "num1 = int(input('Primeiro valor: '))\n",
        "num2 = int(input('Segundo valor: '))\n",
        "\n",
        "if num1 > num2:\n",
        "    print('O primeiro valor é o maior')\n",
        "elif num2 > num1:\n",
        "    print('O segundo valor é o maior')\n",
        "else:\n",
        "    print('Não existe valor maior, os dois são iguais')\n"
      ],
      "metadata": {
        "id": "MAb0D-dCmrYk"
      },
      "execution_count": null,
      "outputs": []
    },
    {
      "cell_type": "markdown",
      "source": [
        "###27)\n",
        "Crie um programa que leia duas notas de um aluno e calcule a sua média,\n",
        "mostrando uma mensagem no final, de acordo com a média atingida:\n",
        "- Média até 4.9: REPROVADO\n",
        "- Média entre 5.0 e 6.9: RECUPERAÇÃO\n",
        "- Média 7.0 ou superior: APROVADO"
      ],
      "metadata": {
        "id": "a7yDRPFipIND"
      }
    },
    {
      "cell_type": "code",
      "source": [
        "notaA = float(input('Digite a primeira nota: '))\n",
        "notaB = float(input('Digite a segunda nota: '))\n",
        "\n",
        "media = (notaA + notaB) / 2\n",
        "\n",
        "if media <= 4.9:\n",
        "    print('REPROVADO')\n",
        "elif media <= 6.9:\n",
        "    print('RECUPERAÇÃO')\n",
        "else:\n",
        "    print('APROVADO')\n"
      ],
      "metadata": {
        "id": "dhGOEokPp9lD"
      },
      "execution_count": null,
      "outputs": []
    },
    {
      "cell_type": "markdown",
      "source": [
        "###28)\n",
        "Faça um programa que leia a largura e o comprimento de um terreno\n",
        "retangular, calculando e mostrando a sua área em m². O programa também\n",
        "devemostrar a classificação desse terreno, de acordo com a lista abaixo:\n",
        "- Abaixo de 100m² = TERRENO POPULAR\n",
        "- Entre 100m² e 500m² = TERRENO MASTER\n",
        "- Acima de 500m² = TERRENO VIP"
      ],
      "metadata": {
        "id": "vy32L5MBrwQr"
      }
    },
    {
      "cell_type": "code",
      "source": [
        "largura = float(input('Entre com a largura: '))\n",
        "comprimento = float(input('Entre com o comprimento: '))\n",
        "\n",
        "area = largura * comprimento\n",
        "\n",
        "if area < 100:\n",
        "    print('TERRENO POPULAR')\n",
        "elif area <= 500:\n",
        "    print('TERRENO MASTER')\n",
        "else:\n",
        "    print('TERRENO VIP')\n"
      ],
      "metadata": {
        "id": "sAWlXOs9ry_C"
      },
      "execution_count": null,
      "outputs": []
    },
    {
      "cell_type": "markdown",
      "source": [
        "###29)\n",
        "Desenvolva um programa que leia o nome de um funcionário, seu salário,\n",
        "quantos anos ele trabalha na empresa e mostre seu novo salário, reajustado de\n",
        "acordo com a tabela a seguir:\n",
        "- Até 3 anos de empresa: aumento de 3%\n",
        "- entre 3 e 10 anos: aumento de 12.5%\n",
        "- 10 anos ou mais: aumento de 20%"
      ],
      "metadata": {
        "id": "pWClwDVMr5pm"
      }
    },
    {
      "cell_type": "code",
      "source": [
        "nome = input('Digite o seu nome: ')\n",
        "salario = float(input('Qual seu salário: '))\n",
        "anos_trabalhando = int(input('Quantos anos de trabalho: '))\n",
        "\n",
        "if anos_trabalhando <= 3:\n",
        "    novo_salario = salario * 1.03  # aumento de 3%\n",
        "elif anos_trabalhando <= 10:\n",
        "    novo_salario = salario * 1.125  # aumento de 12.5%\n",
        "else:\n",
        "    novo_salario = salario * 1.20  # aumento de 20%\n",
        "\n",
        "print(f'Novo salário de {nome}: R$ {novo_salario:.2f}')\n"
      ],
      "metadata": {
        "id": "zkL7LtYKr8Fm"
      },
      "execution_count": null,
      "outputs": []
    },
    {
      "cell_type": "markdown",
      "source": [
        "###30)\n",
        "Refaça o algoritmo 25, acrescentando o recurso de mostrar que tipo\n",
        "de triângulo será formado:\n",
        "- EQUILÁTERO: todos os lados iguais\n",
        "- ISÓSCELES: dois lados iguais\n",
        "- ESCALENO: todos os lados diferentes"
      ],
      "metadata": {
        "id": "JXPxX7N5xvCU"
      }
    },
    {
      "cell_type": "code",
      "source": [
        "ladoA = float(input('Digite o primeiro valor: '))\n",
        "ladoB = float(input('Digite o segundo valor: '))\n",
        "ladoC = float(input('Digite o terceiro valor: '))\n",
        "\n",
        "if ladoA < ladoB + ladoC and ladoB < ladoA + ladoC and ladoC < ladoA + ladoB:\n",
        "    print('Forma Triângulo')\n",
        "    if ladoA == ladoB == ladoC:\n",
        "        print('EQUILÁTERO')\n",
        "    elif ladoA == ladoB or ladoA == ladoC or ladoB == ladoC:\n",
        "        print('ISÓSCELES')\n",
        "    else:\n",
        "        print('ESCALENO')\n",
        "else:\n",
        "    print('Não forma Triângulo')\n"
      ],
      "metadata": {
        "id": "W-rEHM-lEmqm"
      },
      "execution_count": null,
      "outputs": []
    },
    {
      "cell_type": "markdown",
      "source": [
        "###31)\n",
        "Crie um jogo de JoKenPo (Pedra-Papel-Tesoura)\n"
      ],
      "metadata": {
        "id": "FZpoDkWyVBcR"
      }
    },
    {
      "cell_type": "code",
      "source": [
        "import random                       # para manipular numeros aleatórios\n",
        "\n",
        "print('[1] - Pedra\\n[2] - Papel\\n[3] - Tesoura')\n",
        "jogador = int(input('Escolha: '))\n",
        "\n",
        "computador = random.randint(1, 3)  # Esta função gera um número inteiro aleatório entre 1 e 3, inclusive. A função randint faz parte do módulo random.\n",
        "\n",
        "if jogador == computador:\n",
        "    print('EMPATE')\n",
        "elif (jogador == 1 and computador == 3) or (jogador == 2 and computador == 1) or (jogador == 3 and computador == 2):\n",
        "    print('Jogador GANHOU')\n",
        "else:\n",
        "    print('Computador GANHOU')\n"
      ],
      "metadata": {
        "id": "4NCGxRb_VMSU"
      },
      "execution_count": null,
      "outputs": []
    },
    {
      "cell_type": "markdown",
      "source": [
        "###32)\n",
        "Crie um jogo onde o computador vai sortear um número entre 1 e 5 o\n",
        "jogador vai tentar descobrir qual foi o valor sorteado."
      ],
      "metadata": {
        "id": "E_kPQNKAVOZ8"
      }
    },
    {
      "cell_type": "code",
      "source": [
        "import random\n",
        "\n",
        "numero_sorteado = random.randint(1, 5)\n",
        "numero_jogador = int(input('Qual o número sorteado: '))\n",
        "\n",
        "print(f'Número sorteado pelo computador: {numero_sorteado}')\n",
        "\n",
        "if numero_jogador == numero_sorteado:\n",
        "    print('Número Igual')\n",
        "else:\n",
        "    print('Números Diferentes')\n"
      ],
      "metadata": {
        "id": "h3SEAbPiVX_b"
      },
      "execution_count": null,
      "outputs": []
    },
    {
      "cell_type": "markdown",
      "source": [
        "###33)\n",
        "Escreva um programa para aprovar ou não o empréstimo bancário para a compra\n",
        "de uma casa. O programa vai perguntar o valor da casa, o salário do comprador e\n",
        "em quantos anos ele vai pagar. Calcule o valor da prestação mensal, sabendo que\n",
        "ela não pode exceder 30% do salário ou então o empréstimo será negado."
      ],
      "metadata": {
        "id": "7fYkXe3hVjNI"
      }
    },
    {
      "cell_type": "code",
      "source": [
        "valor_casa = float(input('Valor total da casa: '))\n",
        "salario = float(input('Valor do salário: '))\n",
        "anos_pagando = int(input('Quantos anos pagando: '))\n",
        "\n",
        "prestacao_mensal = valor_casa / (anos_pagando * 12)\n",
        "limite_prestacao = salario * 0.3\n",
        "\n",
        "if prestacao_mensal > limite_prestacao:\n",
        "    print('Empréstimo Negado')\n",
        "else:\n",
        "    print('Empréstimo Concedido')\n",
        "\n"
      ],
      "metadata": {
        "id": "Zg5FttloVlpZ"
      },
      "execution_count": null,
      "outputs": []
    },
    {
      "cell_type": "markdown",
      "source": [
        "### 34)\n",
        "O Índice de Massa Corpórea (IMC) é um valor calculado baseado na altura e no\n",
        "peso de uma pessoa. De acordo com o valor do IMC, podemos classificar o\n",
        "indivíduo dentro de certas faixas.\n",
        "- abaixo de 18.5: Abaixo do peso\n",
        "- entre 18.5 e 25: Peso ideal\n",
        "- entre 25 e 30: Sobrepeso\n",
        "- entre 30 e 40: Obesidade\n",
        "- acima de 40: Obseidade mórbida\n",
        "\n",
        "Obs: O IMC é calculado pela expressão peso/altura² (peso dividido pelo quadrado\n",
        "da altura"
      ],
      "metadata": {
        "id": "86GT4PmYdAyK"
      }
    },
    {
      "cell_type": "code",
      "source": [
        "altura = float(input('Altura (m): '))\n",
        "peso = float(input('Peso (kg): '))\n",
        "\n",
        "imc = peso / (altura ** 2)    # calculando IMC, peso dividido pelo quadrado (**) da altura\n",
        "\n",
        "if imc < 18.5:\n",
        "    print('Abaixo do peso')\n",
        "elif imc <= 25:\n",
        "    print('Peso ideal')\n",
        "elif imc <= 30:\n",
        "    print('Sobrepeso')\n",
        "elif imc <= 40:\n",
        "    print('Obesidade')\n",
        "else:\n",
        "    print('Obesidade mórbida')\n"
      ],
      "metadata": {
        "id": "jIGRd1aGdL6Q"
      },
      "execution_count": null,
      "outputs": []
    },
    {
      "cell_type": "markdown",
      "source": [
        "### 35)\n",
        "Uma empresa de aluguel de carros precisa cobrar pelos seus serviços. O\n",
        "aluguel de um carro custa `R$90` por dia para carro popular e `R$150` por dia para\n",
        "carro de luxo. Além disso, o cliente paga por Km percorrido. Faça um programa\n",
        "que leia o tipo de carro alugado (popular ou luxo), quantos dias de aluguel e\n",
        "quantos Km foram percorridos. No final mostre o preço a ser pago de acordo com a\n",
        "tabela a seguir:\n",
        "- Carros populares (aluguel de `R$90` por dia)\n",
        "- Até 100Km percorridos: `R$0,20` por Km\n",
        "- Acima de 100Km percorridos: `R$0,10` por Km\n",
        "- Carros de luxo (aluguel de `R$150` por dia)\n",
        "- Até 200Km percorridos: `R$0,30` por Km\n",
        "- Acima de 200Km percorridos: `R$0,25` por Km"
      ],
      "metadata": {
        "id": "tQCoaKEThzEv"
      }
    },
    {
      "cell_type": "code",
      "source": [
        "tipo_carro = input('Tipo de carro (popular/luxo): ').lower()   # converte todas as letras para minúsculas\n",
        "dias_aluguel = int(input('Quantidade de dias alugado: '))\n",
        "km_percorridos = float(input('Km percorridos: '))\n",
        "\n",
        "if tipo_carro == 'popular':            # calcula na base popular\n",
        "    custo_dia = 90\n",
        "    if km_percorridos <= 100:\n",
        "        custo_km = 0.2\n",
        "    else:\n",
        "        custo_km = 0.1\n",
        "else:                                  # calcula na base luxo\n",
        "    custo_dia = 150\n",
        "    if km_percorridos <= 200:\n",
        "        custo_km = 0.3\n",
        "    else:\n",
        "        custo_km = 0.25\n",
        "\n",
        "total_pagar = (dias_aluguel * custo_dia) + (km_percorridos * custo_km)\n",
        "print(f'Total a pagar: R$ {total_pagar:.2f}')\n"
      ],
      "metadata": {
        "id": "6Qyb34A3oKye"
      },
      "execution_count": null,
      "outputs": []
    },
    {
      "cell_type": "markdown",
      "source": [
        "### 36)\n",
        "Um programa de vida saudável quer dar pontos atividades físicas que podem\n",
        "ser trocados por dinheiro. O sistema funciona assim:\n",
        "- Cada hora de atividade física no mês vale pontos\n",
        "- até 10h de atividade no mês: ganha 2 pontos por hora\n",
        "- de 10h até 20h de atividade no mês: ganha 5 pontos por hora\n",
        "- acima de 20h de atividade no mês: ganha 10 pontos por hora\n",
        "- A cada ponto ganho, o cliente fatura R$0,05 (5 centavos)\n",
        "\n",
        "Faça um programa que leia quantas horas de atividade uma pessoa teve por mês,\n",
        "calcule e mostre quantos pontos ela teve e quanto dinheiro ela conseguiu ganhar."
      ],
      "metadata": {
        "id": "sF4BQE2YZCss"
      }
    },
    {
      "cell_type": "code",
      "source": [
        "horas_atividade = float(input('Quantas horas de atividade: '))\n",
        "\n",
        "if horas_atividade <= 10:\n",
        "    pontos = horas_atividade * 2\n",
        "elif horas_atividade <= 20:\n",
        "    pontos = horas_atividade * 5\n",
        "else:\n",
        "    pontos = horas_atividade * 10\n",
        "\n",
        "dinheiro_ganho = pontos * 0.05\n",
        "\n",
        "print(f'Você ganhou {pontos} pontos e R$ {dinheiro_ganho:.2f}')\n"
      ],
      "metadata": {
        "id": "CPtoWj2IZMn_"
      },
      "execution_count": null,
      "outputs": []
    },
    {
      "cell_type": "markdown",
      "source": [
        "###37)\n",
        "Uma empresa precisa reajustar o salário dos seus funcionários, dando um\n",
        "aumento de acordo com alguns fatores. Faça um programa que leia o salário atual,\n",
        "o gênero do funcionário e há quantos anos esse funcionário trabalha na empresa.\n",
        "No final, mostre o seu novo salário, baseado na tabela a seguir:\n",
        "- Mulheres\n",
        "  - menos de 15 anos de empresa: +5%\n",
        "  - de 15 até 20 anos de empresa: +12%\n",
        "  - mais de 20 anos de empresa: +23%\n",
        "- Homens\n",
        "  - menos de 20 anos de empresa: +3%\n",
        "  - de 20 até 30 anos de empresa: +13%\n",
        "  - mais de 30 anos de empresa: +25%"
      ],
      "metadata": {
        "id": "2xtGN0nMcsop"
      }
    },
    {
      "cell_type": "code",
      "source": [
        "salario_atual = float(input('Salário atual R$ '))\n",
        "genero = input('Gênero (M/F): ').upper()\n",
        "anos_empresa = int(input('Anos na empresa: '))\n",
        "\n",
        "if genero == 'F':\n",
        "    if anos_empresa < 15:\n",
        "        novo_salario = salario_atual * 1.05  # aumento de 5%\n",
        "    elif anos_empresa <= 20:\n",
        "        novo_salario = salario_atual * 1.12  # aumento de 12%\n",
        "    else:\n",
        "        novo_salario = salario_atual * 1.23  # aumento de 23%\n",
        "else:\n",
        "    if anos_empresa < 20:\n",
        "        novo_salario = salario_atual * 1.03  # aumento de 3%\n",
        "    elif anos_empresa <= 30:\n",
        "        novo_salario = salario_atual * 1.13  # aumento de 13%\n",
        "    else:\n",
        "        novo_salario = salario_atual * 1.25  # aumento de 25%\n",
        "\n",
        "print(f'Novo salário: R$ {novo_salario:.2f}')\n"
      ],
      "metadata": {
        "id": "PM5lBJJAc7dS"
      },
      "execution_count": null,
      "outputs": []
    }
  ]
}