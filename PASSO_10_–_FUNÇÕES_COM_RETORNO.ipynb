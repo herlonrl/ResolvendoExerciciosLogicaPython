{
  "nbformat": 4,
  "nbformat_minor": 0,
  "metadata": {
    "colab": {
      "provenance": [],
      "collapsed_sections": [
        "ZXP8UUaWFqk5",
        "iCWYzTljF1QS",
        "8OJi2YADF8ji",
        "wgSygdpzGD8z",
        "t50ouwj-GKWA",
        "jQm6Qb6KGVWy"
      ]
    },
    "kernelspec": {
      "name": "python3",
      "display_name": "Python 3"
    },
    "language_info": {
      "name": "python"
    }
  },
  "cells": [
    {
      "cell_type": "markdown",
      "source": [
        "# PASSO 10 – FUNÇÕES COM RETORNO\n",
        "\n",
        "- Combinar lógica de funções com controle de fluxo.\n",
        "  - `def`: Define uma função.\n",
        "  - `return`: Retorna um valor de uma função.\n",
        "\n",
        "**Exemplo:**\n",
        "```python\n",
        "def soma(a, b):\n",
        "    return a + b\n",
        "\n",
        "resultado = soma(5, 3)\n",
        "print(f\"O resultado da soma é {resultado}\")\n",
        "```\n"
      ],
      "metadata": {
        "id": "tWtmTmY3FQwJ"
      }
    },
    {
      "cell_type": "markdown",
      "source": [
        "###95)\n",
        "Refaça o exercício 90, só que agora em forma de função Somador(), que vai\n",
        "receber dois parâmetros e vai retornar o resultado da soma entre eles para o\n",
        "programa principal."
      ],
      "metadata": {
        "id": "ZXP8UUaWFqk5"
      }
    },
    {
      "cell_type": "code",
      "source": [
        "valor1 = int(input('Primeiro valor: '))\n",
        "valor2 = int(input('Segundo valor: '))\n",
        "\n",
        "def Somador(val1, val2):\n",
        "  soma = val1 + val2\n",
        "  return soma\n",
        "\n",
        "total = Somador(valor1, valor2)\n",
        "print(f'Valor da soma: {total}')\n"
      ],
      "metadata": {
        "id": "7R9C5kfoFum9"
      },
      "execution_count": null,
      "outputs": []
    },
    {
      "cell_type": "markdown",
      "source": [
        "###96)\n",
        "Crie um programa que tenha uma função Media(), que vai receber as 2 notas de\n",
        "um aluno e retornar a sua média para o programa principal."
      ],
      "metadata": {
        "id": "iCWYzTljF1QS"
      }
    },
    {
      "cell_type": "code",
      "source": [
        "nota1 = int(input('1ª Nota: '))\n",
        "nota2 = int(input('2ª Nota: '))\n",
        "\n",
        "def Media(nota1, nota2):\n",
        "  media = (nota1 + nota2) /2\n",
        "  return media\n",
        "\n",
        "media = Media(nota1, nota2)\n",
        "print(f'Média: {media}')\n"
      ],
      "metadata": {
        "id": "xwOyDdUWF5WM"
      },
      "execution_count": null,
      "outputs": []
    },
    {
      "cell_type": "markdown",
      "source": [
        "###97)\n",
        "Refaça o exercício 91, só que agora em forma de função Maior(), mas faça uma\n",
        "adaptação que vai receber TRÊS números como parâmetro e vai retornar qual foi o\n",
        "maior entre eles."
      ],
      "metadata": {
        "id": "8OJi2YADF8ji"
      }
    },
    {
      "cell_type": "code",
      "source": [
        "valor1 = int(input('1º valor: '))\n",
        "valor2 = int(input('2º valor: '))\n",
        "valor3 = int(input('3º valor: '))\n",
        "\n",
        "def Maior(val1, val2, val3):\n",
        "    return max(val1, val2, val3)\n",
        "\n",
        "final = Maior(valor1, valor2, valor3)\n",
        "print(\"Maior valor encontrado: \",final)\n"
      ],
      "metadata": {
        "id": "_wGo65W0F-cl"
      },
      "execution_count": null,
      "outputs": []
    },
    {
      "cell_type": "markdown",
      "source": [
        "###98)\n",
        "Crie um programa que tenha uma função SuperSomador(), que vai receber dois\n",
        "números como parâmetro e depois vai retornar a soma de todos os valores no\n",
        "intervalo entre os valores recebidos.\n",
        "\n",
        "Ex:\n",
        "\n",
        "SuperSomador(1, 6) vai somar 1 + 2 + 3 + 4 + 5 + 6 e vai retornar 21\n",
        "\n",
        "SuperSomador(15, 19) vai somar 15 + 16 + 17 + 18 + 19 e vai retornar 85"
      ],
      "metadata": {
        "id": "wgSygdpzGD8z"
      }
    },
    {
      "cell_type": "code",
      "source": [
        "numero1 = int(input('Primeiro número: '))\n",
        "numero2 = int(input('Segundo número: '))\n",
        "\n",
        "def SuperSomador(num1, num2):\n",
        "    return sum(range(num1, num2 + 1))\n",
        "\n",
        "resultado = SuperSomador(numero1, numero2)\n",
        "print(\"Resultado: \",resultado)\n"
      ],
      "metadata": {
        "id": "lesKlUQ_GJji"
      },
      "execution_count": null,
      "outputs": []
    },
    {
      "cell_type": "markdown",
      "source": [
        "###99)\n",
        "Faça um programa que possua uma função chamada Potencia(), que vai receber\n",
        "dois parâmetros numéricos (base e expoente) e vai calcular o resultado da\n",
        "exponenciação.\n",
        "\n",
        "Ex: Potencia(5,2) vai calcular 5^2 = 25"
      ],
      "metadata": {
        "id": "t50ouwj-GKWA"
      }
    },
    {
      "cell_type": "code",
      "source": [
        "base = int(input('Base: '))\n",
        "expoente = int(input('Expoente: '))\n",
        "\n",
        "def Potencia(base, expoente):\n",
        "    return base ** expoente\n",
        "\n",
        "calcular = Potencia(base, expoente)\n",
        "print(\"Potencia: \", calcular)\n"
      ],
      "metadata": {
        "id": "wzMpB6w3GRf8"
      },
      "execution_count": null,
      "outputs": []
    },
    {
      "cell_type": "markdown",
      "source": [
        "###100)\n",
        "Melhore o exercício 96, criando além da função Media() uma outra função\n",
        "chamada Situacao(), que vai retornar para o programa principal se o aluno está\n",
        "APROVADO, em RECUPERAÇÃO ou REPROVADO. Essa nova função, vai receber como\n",
        "parâmetro o resultado retornado pela função Media().\n",
        "- Média até 4.9: REPROVADO\n",
        "- Média entre 5.0 e 6.9: RECUPERAÇÃO\n",
        "- Média 7.0 ou superior: APROVADO"
      ],
      "metadata": {
        "id": "jQm6Qb6KGVWy"
      }
    },
    {
      "cell_type": "code",
      "source": [
        "def Media(nota1, nota2):\n",
        "    return (nota1 + nota2) / 2\n",
        "\n",
        "def Situacao(media):\n",
        "    if media < 5:\n",
        "        return 'Reprovado'\n",
        "    elif media < 7:\n",
        "        return 'Recuperação'\n",
        "    else:\n",
        "        return 'Aprovado'\n",
        "\n",
        "nota1 = int(input('1ª Nota: '))\n",
        "nota2 = int(input('2ª Nota: '))\n",
        "\n",
        "calcular = Media(nota1, nota2)\n",
        "print(\"Situação: \", Situacao(calcular))\n"
      ],
      "metadata": {
        "id": "90SCfeF9GWlJ"
      },
      "execution_count": null,
      "outputs": []
    }
  ]
}