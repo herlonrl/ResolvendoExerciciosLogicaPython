{
  "nbformat": 4,
  "nbformat_minor": 0,
  "metadata": {
    "colab": {
      "provenance": [],
      "collapsed_sections": [
        "42vRpuu8IoDO",
        "14ClVyynIviB",
        "OCMv3maTI7EZ",
        "a2qPOCuOI9qV",
        "eFArf5mgJM7k",
        "vKWMb-KbJVxz",
        "FyqrolMdfRfk",
        "BaaH9hsxfcxc"
      ]
    },
    "kernelspec": {
      "name": "python3",
      "display_name": "Python 3"
    },
    "language_info": {
      "name": "python"
    }
  },
  "cells": [
    {
      "cell_type": "markdown",
      "source": [
        "# PASSO 07 – REPETIÇÃO COM PARA\n",
        "\n",
        "- Listas para iterar e armazenar valores quando necessário.\n",
        "  - `for`: Inicia um loop que itera sobre uma sequência.\n",
        "  - `range()`: Gera uma sequência de números.\n",
        "  - `for` com `range()`: Estrutura de repetição com contagem específica.\n",
        "\n",
        "\n",
        "**Exemplo:**\n",
        "```python\n",
        "for i in range(1, 11):\n",
        "    print(i)\n",
        "```"
      ],
      "metadata": {
        "id": "42vRpuu8IoDO"
      }
    },
    {
      "cell_type": "markdown",
      "source": [
        "###64)\n",
        "Desenvolva um programa usando a estrutura “para” que mostre na tela a\n",
        "seguinte contagem:\n",
        "\n",
        "0 5 10 15 20 25 30 35 40 Acabou!"
      ],
      "metadata": {
        "id": "14ClVyynIviB"
      }
    },
    {
      "cell_type": "code",
      "source": [
        "# ALTERNATIVA SEM EXTRUTURA PARA #\n",
        "# print(' '.join(map(str, range(0, 41, 5))), 'Acabou!')\n",
        "'''\n",
        "EXPLICANDO CÓDIGO\n",
        "range(0, 41, 5): Gera uma sequência de números começando em 0 até 40 (inclusive), com incrementos de 5.\n",
        "map(str, range(0, 41, 5)): Aplica a função str a cada elemento da sequência gerada pelo range, convertendo cada número em uma string.\n",
        "' '.join(...): Junta todas as strings da lista resultante do map em uma única string, separadas por um espaço.\n",
        "'''\n",
        "\n",
        "for i in range(0, 41, 5):  # Inicio do loop que vai de 0 a 40, incrementando de 5 em 5\n",
        "  print(i, end=' ')        # Imprime o valor de i na mesma linha, seguido por um espaço\n",
        "print('Acabou!')\n",
        "\n"
      ],
      "metadata": {
        "id": "5PZYXBsoI1tu"
      },
      "execution_count": null,
      "outputs": []
    },
    {
      "cell_type": "markdown",
      "source": [
        "###65)\n",
        "Desenvolva um programa usando a estrutura “para” que mostre na tela a\n",
        "seguinte contagem:\n",
        "\n",
        "100 90 80 70 60 50 40 30 20 10 0 Acabou!"
      ],
      "metadata": {
        "id": "OCMv3maTI7EZ"
      }
    },
    {
      "cell_type": "code",
      "source": [
        "for i in range(100, -1, -10):  # loop vai de 100 até 0 com decremento -10\n",
        "  print(i, end=' ')\n",
        "print('Acabou!')\n"
      ],
      "metadata": {
        "id": "kgJayEXcI6Ps"
      },
      "execution_count": null,
      "outputs": []
    },
    {
      "cell_type": "markdown",
      "source": [
        "###66)\n",
        "Escreva um programa que leia um número qualquer e mostre a tabuada desse\n",
        "número, usando a estrutura “para”.\n",
        "\n",
        "Ex: Digite um valor: 5\n",
        "\n",
        "5 x 1 = 5\n",
        "\n",
        "5 x 2 = 10\n",
        "\n",
        "5 x 3 = 15 ..."
      ],
      "metadata": {
        "id": "a2qPOCuOI9qV"
      }
    },
    {
      "cell_type": "code",
      "source": [
        "num = int(input('Digite um valor: '))\n",
        "\n",
        "for i in range(1,11):\n",
        "  print(f'{num} x {i} =  {num * i}')\n",
        "\n",
        "# ALTERNATIVA\n",
        "# print('\\n'.join([f'{num} x {i} = {num * i}' for i in range(1, 11)]))\n",
        "# EXPLICANDO CÓDIGO\n",
        "# [f'{num} x {i} = {num * i}' for i in range(1, 11)]: Esta é uma list comprehension que gera uma lista de strings. Cada string é uma linha da tabuada do número num, variando i de 1 a 10.\n",
        "# '\\n'.join(...): A função join combina todos os elementos da lista em uma única string, separando-os com quebras de linha (\\n).\n"
      ],
      "metadata": {
        "id": "7MpKam1wJIe_"
      },
      "execution_count": null,
      "outputs": []
    },
    {
      "cell_type": "markdown",
      "source": [
        "###67)\n",
        "Faça um programa usando a estrutura “para” que leia um número inteiro\n",
        "positivo e mostre na tela uma contagem de 0 até o valor digitado:\n",
        "\n",
        "Ex: Digite um valor: 9\n",
        "\n",
        "Contagem: 0, 1, 2, 3, 4, 5, 6, 7, 8, 9, FIM!\n"
      ],
      "metadata": {
        "id": "eFArf5mgJM7k"
      }
    },
    {
      "cell_type": "code",
      "source": [
        "num = int(input('Digite um valor: '))\n",
        "\n",
        "print('Contagem: ',end='')\n",
        "for i in range(0, num+1):\n",
        "  print(i,',',end=' ')\n",
        "print('FIM!')\n"
      ],
      "metadata": {
        "id": "dUocHIMoJSl8"
      },
      "execution_count": null,
      "outputs": []
    },
    {
      "cell_type": "markdown",
      "source": [
        "###68)\n",
        "Crie um programa que leia sexo e peso de 8 pessoas, usando a estrutura\n",
        "“para”. No final, mostre na tela:\n",
        "\n",
        "a) Quantas mulheres foram cadastradas\n",
        "\n",
        "b) Quantos homens pesam mais de 100Kg\n",
        "\n",
        "c) A média de peso entre as mulheres\n",
        "\n",
        "d) O maior peso entre os homens"
      ],
      "metadata": {
        "id": "vKWMb-KbJVxz"
      }
    },
    {
      "cell_type": "code",
      "source": [
        "cont_F = cont_H = 0\n",
        "peso_total_F = 0\n",
        "maior_peso_H = float('-inf') # menos infinito\n",
        "\n",
        "for i in range(9):\n",
        "    sexo = input('Sexo: M/F: ').upper()\n",
        "    peso = float(input('Peso: '))\n",
        "\n",
        "    if sexo == 'F':\n",
        "        cont_F += 1\n",
        "        peso_total_F += peso\n",
        "    elif sexo == 'M':\n",
        "        if peso > maior_peso_H:\n",
        "            maior_peso_H = peso\n",
        "        if peso > 100:\n",
        "            cont_H += 1\n",
        "\n",
        "media_peso_F = peso_total_F / cont_F if cont_F > 0 else 0\n",
        "\n",
        "print('Quantas mulheres cadastradas: ', cont_F)\n",
        "print('Quantidade de homens com mais de 100 Kg: ', cont_H)\n",
        "print(f'Média de peso das mulheres: {media_peso_F:.2f} ')\n",
        "print('O maior peso entre os homens: ', maior_peso_H)\n"
      ],
      "metadata": {
        "id": "yYXXipD5JfYc"
      },
      "execution_count": null,
      "outputs": []
    },
    {
      "cell_type": "markdown",
      "source": [
        "###69)\n",
        "Desenvolva um programa que leia o primeiro termo e a razão de uma\n",
        "PA (Progressão Aritmética), mostrando na tela os 10 primeiros elementos da PA e\n",
        "a soma entre todos os valores da sequência."
      ],
      "metadata": {
        "id": "FyqrolMdfRfk"
      }
    },
    {
      "cell_type": "code",
      "source": [
        "termo = int(input('Termo: '))\n",
        "razao = int(input('Razão: '))\n",
        "soma = 0\n",
        "\n",
        "for cont in range(10):\n",
        "    termo += razao\n",
        "    print(termo, end=' ')\n",
        "    soma += termo\n",
        "\n",
        "print()\n",
        "print('Soma dos termos: ', soma)\n"
      ],
      "metadata": {
        "id": "UTJqP1mvfZcV"
      },
      "execution_count": null,
      "outputs": []
    },
    {
      "cell_type": "markdown",
      "source": [
        "###70)\n",
        "Faça um programa que mostre os 10 primeiros elementos da Sequência\n",
        "de Fibonacci:\n",
        "\n",
        "1 1 2 3 5 8 13 21..."
      ],
      "metadata": {
        "id": "BaaH9hsxfcxc"
      }
    },
    {
      "cell_type": "code",
      "source": [
        "''' A sequência de Fibonacci é uma sequência numérica em que cada termo a partir do terceiro é a soma dos dois antecessores.\n",
        "O primeiro termo da sequência de Fibonacci é o número 1 e o segundo termo também é o número 1.\n",
        "O terceiro termo é 2, pois 1+1=2. Já o quarto termo é 3, pois 1+2=3 '''\n",
        "\n",
        "inicio = proximo = 1\n",
        "\n",
        "for cont in range(10):\n",
        "    print(proximo, end=' ')\n",
        "    soma = inicio + proximo\n",
        "    proximo = inicio\n",
        "    inicio = soma\n"
      ],
      "metadata": {
        "id": "xExSNFecfn8v"
      },
      "execution_count": null,
      "outputs": []
    }
  ]
}