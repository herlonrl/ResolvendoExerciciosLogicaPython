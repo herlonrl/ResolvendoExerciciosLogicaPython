{
  "nbformat": 4,
  "nbformat_minor": 0,
  "metadata": {
    "colab": {
      "provenance": [],
      "collapsed_sections": [
        "40nHp97zhLUY",
        "pWDLRYruJTuV",
        "l-vljQunJZa1",
        "aR_ujKl9JmJW",
        "0h5Nyd-rsEK8",
        "kxzi9elJtBdr",
        "rP0Jt8VVBVEj",
        "03yioA5XCY2b",
        "jAtITR3YChc_",
        "-MGeRHSAG4JJ",
        "j4fFzlMrHBDx",
        "dc2sA5S8HIa_",
        "mkb-fF_iHPJd",
        "hHJGMqdVGtp2",
        "s0hYnUZIG3IV",
        "pqVicgdQHBa-",
        "xTT0as__HJZY",
        "PjFoqi3qH8rQ"
      ]
    },
    "kernelspec": {
      "name": "python3",
      "display_name": "Python 3"
    },
    "language_info": {
      "name": "python"
    }
  },
  "cells": [
    {
      "cell_type": "markdown",
      "source": [
        "# PASSO 04 – REPETIÇÕES ENQUANTO\n",
        "\n",
        "- `while`: Inicia um loop que continua enquanto a condição for verdadeira.\n",
        "- Contadores e acumuladores (ex.: `i += 1` ou `soma += valor`).\n",
        "- `break`: Encerrar um laço de repetição.\n",
        "- `continue`: Pular para a próxima iteração.\n",
        "\n",
        "**Exemplo:**\n",
        "```python\n",
        "contador = 1\n",
        "while contador <= 10:\n",
        "    print(contador)\n",
        "    contador += 1\n",
        "```"
      ],
      "metadata": {
        "id": "Y9BfiDwZhHMa"
      }
    },
    {
      "cell_type": "markdown",
      "source": [
        "###38)\n",
        "Escreva um programa que mostre na tela a seguinte contagem:\n",
        "\n",
        "6 7 8 9 10 11 Acabou!"
      ],
      "metadata": {
        "id": "40nHp97zhLUY"
      }
    },
    {
      "cell_type": "code",
      "source": [
        "x = 6                  # Define a variável x com o valor inicial 6.\n",
        "while x <= 11:         # Inicia um loop que continuará enquanto x for menor ou igual a 11\n",
        "  print(x, end=' ')    # Mostra o valor de x na mesma linha, seguido por um espaço.\n",
        "  x += 1               # Incrementa(soma) o valor de x em 1 em cada iteração do loop.\n",
        "print('Acabou!')       # Mostra a mensagem \"Acabou!\" na mesma linha.\n"
      ],
      "metadata": {
        "id": "NQq0NXUghR8m"
      },
      "execution_count": null,
      "outputs": []
    },
    {
      "cell_type": "markdown",
      "source": [
        "###39)\n",
        "Faça um algoritmo que mostre na tela a seguinte contagem:\n",
        "\n",
        "10 9 8 7 6 5 4 3 Acabou!"
      ],
      "metadata": {
        "id": "pWDLRYruJTuV"
      }
    },
    {
      "cell_type": "code",
      "source": [
        "x = 10\n",
        "while x > 2:               # Inicia um loop que continuará enquanto x for maior que 2.\n",
        "    print(x, end=' ')\n",
        "    x -= 1                 # Decrementa(subtrai) o valor de x em 1 em cada iteração do loop.\n",
        "print('Acabou!')\n"
      ],
      "metadata": {
        "id": "1q7SoG4dJWUd"
      },
      "execution_count": null,
      "outputs": []
    },
    {
      "cell_type": "markdown",
      "source": [
        "###40)\n",
        "Crie um aplicativo que mostre na tela a seguinte contagem:\n",
        "\n",
        "0 3 6 9 12 15 18 Acabou!"
      ],
      "metadata": {
        "id": "l-vljQunJZa1"
      }
    },
    {
      "cell_type": "code",
      "source": [
        "x = 0\n",
        "while x < 19:              # Inicia um loop que continuará enquanto x for menor que 19.\n",
        "    print(x, end=' ')\n",
        "    x += 3                 # Incrementa(soma) o valor de x em 3 em cada iteração do loop.\n",
        "print('Acabou!')\n"
      ],
      "metadata": {
        "id": "29D8RvofJbf-"
      },
      "execution_count": null,
      "outputs": []
    },
    {
      "cell_type": "markdown",
      "source": [
        "###41)\n",
        "Desenvolva um programa que mostre na tela a seguinte contagem:\n",
        "\n",
        "100 95 90 85 80 ... 0 Acabou!"
      ],
      "metadata": {
        "id": "aR_ujKl9JmJW"
      }
    },
    {
      "cell_type": "code",
      "source": [
        "x = 100\n",
        "while x >= 0:\n",
        "    print(x, end=' ')\n",
        "    x -= 5\n",
        "print('Acabou!')\n"
      ],
      "metadata": {
        "id": "QVQxgET5JoZO"
      },
      "execution_count": null,
      "outputs": []
    },
    {
      "cell_type": "markdown",
      "source": [
        "###42)\n",
        "Faça um algoritmo que pergunte ao usuário um número inteiro e positivo\n",
        "qualquer e mostre uma contagem até esse valor:\n",
        "\n",
        "Ex: Digite um valor: 35\n",
        "\n",
        "Contagem: 1 2 3 4 5 6 7 ... 33 34 35 Acabou!"
      ],
      "metadata": {
        "id": "0h5Nyd-rsEK8"
      }
    },
    {
      "cell_type": "code",
      "source": [
        "valor = int(input('Digite um valor: '))\n",
        "\n",
        "x = 1\n",
        "while x <= valor:           # Inicia um loop que continuará enquanto x for menor ou igual ao valor digitado.\n",
        "    print(x, end=' ')\n",
        "    x += 1\n",
        "print('Acabou!')\n"
      ],
      "metadata": {
        "id": "yrACY97JsPKg"
      },
      "execution_count": null,
      "outputs": []
    },
    {
      "cell_type": "markdown",
      "source": [
        "###43)\n",
        "Desenvolva um algoritmo que mostre uma contagem regressiva de 30 até 1,\n",
        "marcando os números que forem divisíveis por 4, exatamente como mostrado abaixo:\n",
        "\n",
        "30 29 [28] 27 26 25 [24] 23 22 21 [20] 19 18 17 [16]..."
      ],
      "metadata": {
        "id": "kxzi9elJtBdr"
      }
    },
    {
      "cell_type": "code",
      "source": [
        "x = 30\n",
        "while x > 0:                      # Inicia um loop que continuará enquanto x for maior que 0.\n",
        "    if x % 4 == 0:                # Verifica se x é divisível por 4.\n",
        "        print(f'[{x}]', end=' ')  # Se for divisível, mostra o valor de x entre colchetes.\n",
        "    else:                         # Se não for divisível, mostra o valor de x.\n",
        "        print(x, end=' ')\n",
        "    x -= 1                        # Decrementa(subtrai) o valor de x em 1 em cada iteração do loop.\n",
        "print('Acabou!')\n"
      ],
      "metadata": {
        "id": "hWuo07F_tI2u"
      },
      "execution_count": null,
      "outputs": []
    },
    {
      "cell_type": "markdown",
      "source": [
        "###44)\n",
        "Crie um algoritmo que leia o valor inicial da contagem, o valor final e o\n",
        "incremento, mostrando em seguida todos os valores no intervalo:\n",
        "\n",
        "Ex: Digite o primeiro Valor: 3\n",
        "\n",
        "Digite o último Valor: 10\n",
        "\n",
        "Digite o incremento: 2\n",
        "\n",
        "Contagem: 3 5 7 9 Acabou"
      ],
      "metadata": {
        "id": "rP0Jt8VVBVEj"
      }
    },
    {
      "cell_type": "code",
      "source": [
        "primeiroValor = int(input('Digite o primeiro Valor: '))\n",
        "ultimoValor = int(input('Digite o último Valor: '))\n",
        "incremento = int(input('Digite o incremento: '))\n",
        "\n",
        "x = primeiroValor\n",
        "while x <= ultimoValor:       # Inicia um loop que continuará enquanto x for menor ou igual ao último valor.\n",
        "    print(x, end=' ')         # Mostra o valor de x na mesma linha, seguido por um espaço.\n",
        "    x += incremento\n",
        "print('Acabou!')\n"
      ],
      "metadata": {
        "id": "Q8uhnA1KBgz5"
      },
      "execution_count": null,
      "outputs": []
    },
    {
      "cell_type": "markdown",
      "source": [
        "###45)\n",
        "O programa acima vai ter um problema quando digitarmos o primeiro valor\n",
        "maior que o último. Resolva esse problema com um código que funcione em qualquer\n",
        "situação."
      ],
      "metadata": {
        "id": "03yioA5XCY2b"
      }
    },
    {
      "cell_type": "code",
      "source": [
        "primeiroValor = int(input('Digite o primeiro Valor: '))\n",
        "ultimoValor = int(input('Digite o último Valor: '))\n",
        "incremento = int(input('Digite o incremento: '))\n",
        "\n",
        "if incremento == 0:                           # Verifica se o \"incremento\" é igual a zero\n",
        "    print(\"O incremento não pode ser zero.\")\n",
        "else:\n",
        "    if primeiroValor < ultimoValor:           # Verifica se o \"primeiroValor\" é menor que o \"ultimoValor\"\n",
        "        x = primeiroValor                     # Atribui o \"primeiroValor\"  na variável \"x\"\n",
        "        while x <= ultimoValor:               # Inicia um loop que continuará enquanto x for menor ou igual ao último valor.\n",
        "            print(x, end=' ')\n",
        "            x += incremento\n",
        "    else:\n",
        "        x = primeiroValor\n",
        "        while x >= ultimoValor:\n",
        "            print(x, end=' ')\n",
        "            x -= incremento\n",
        "\n",
        "print('Acabou!')\n"
      ],
      "metadata": {
        "id": "q66A8hviCag5"
      },
      "execution_count": null,
      "outputs": []
    },
    {
      "cell_type": "markdown",
      "source": [
        "###46)\n",
        "Crie um programa que calcule e mostre na tela o resultado da soma entre 6 +\n",
        "8 + 10 + 12 + 14 + ... + 98 + 100."
      ],
      "metadata": {
        "id": "jAtITR3YChc_"
      }
    },
    {
      "cell_type": "code",
      "source": [
        "soma = 0\n",
        "x = 6\n",
        "while x <= 100:\n",
        "    soma += x                     # Adiciona o valor de x à variável soma\n",
        "    if x + 2 > 100:               # Verifica se x + 2 será maior que 100 na próxima iteração\n",
        "        print(x, end='')          # Se for, imprime x sem o sinal de adição\n",
        "    else:\n",
        "        print(x, ' + ', end='')   # Imprime x seguido de ' + '\n",
        "    x += 2\n",
        "print()\n",
        "print(soma)\n"
      ],
      "metadata": {
        "id": "5I6QozMfCj2S"
      },
      "execution_count": null,
      "outputs": []
    },
    {
      "cell_type": "markdown",
      "source": [
        "###47)\n",
        "Desenvolva um aplicativo que mostre na tela o resultado da expressão 500 +\n",
        "450 + 400 + 350 + 300 + ... + 50 + 0"
      ],
      "metadata": {
        "id": "-MGeRHSAG4JJ"
      }
    },
    {
      "cell_type": "code",
      "source": [
        "soma = 0\n",
        "x = 500\n",
        "while x >= 0:\n",
        "    soma += x\n",
        "    if x == 0:\n",
        "        print(x, end='')\n",
        "    else:\n",
        "        print(x, ' + ', end='')\n",
        "    x -= 50\n",
        "print()\n",
        "print(soma)\n"
      ],
      "metadata": {
        "id": "bQB72kKaG7Dk"
      },
      "execution_count": null,
      "outputs": []
    },
    {
      "cell_type": "markdown",
      "source": [
        "###48)\n",
        "Faça um programa que leia 7 números inteiros e no final mostre o somatório\n",
        "entre eles."
      ],
      "metadata": {
        "id": "j4fFzlMrHBDx"
      }
    },
    {
      "cell_type": "code",
      "source": [
        "soma = 0\n",
        "cont = 0\n",
        "\n",
        "while cont < 7:\n",
        "    num = int(input(f'Digite o {cont + 1}º número: '))\n",
        "    soma += num\n",
        "    cont += 1\n",
        "\n",
        "print('Somatório:', soma)\n"
      ],
      "metadata": {
        "id": "P7YD9IspHEHo"
      },
      "execution_count": null,
      "outputs": []
    },
    {
      "cell_type": "markdown",
      "source": [
        "###49)\n",
        "Crie um programa que leia 6 números inteiros e no final mostre quantos deles\n",
        "são pares e quantos são ímpares."
      ],
      "metadata": {
        "id": "dc2sA5S8HIa_"
      }
    },
    {
      "cell_type": "code",
      "source": [
        "par = impar = 0\n",
        "cont = 0\n",
        "\n",
        "while cont < 6:\n",
        "    num = int(input(f'Digite o {cont + 1}º número: '))\n",
        "    if num % 2 == 0:\n",
        "        par += 1\n",
        "    else:\n",
        "        impar += 1\n",
        "    cont += 1\n",
        "\n",
        "print()\n",
        "print(f'Pares: {par}; Ímpares: {impar}')\n"
      ],
      "metadata": {
        "id": "dg_so43uHKb9"
      },
      "execution_count": null,
      "outputs": []
    },
    {
      "cell_type": "markdown",
      "source": [
        "###50)\n",
        "Desenvolva um programa que faça o sorteio de 20 números entre 0 e 10 e\n",
        "mostre na tela:\n",
        "\n",
        "a) Quais foram os números sorteados\n",
        "\n",
        "b) Quantos números estão acima de 5\n",
        "\n",
        "c) Quantos números são divisíveis por 3"
      ],
      "metadata": {
        "id": "mkb-fF_iHPJd"
      }
    },
    {
      "cell_type": "code",
      "source": [
        "import random\n",
        "\n",
        "cont = soma1 = soma2 = 0\n",
        "\n",
        "while cont < 20:\n",
        "  cont += 1\n",
        "  num = random.randrange(0, 11)\n",
        "  print(num, end= ' ')         # mostra os numeros sorteados\n",
        "  if num > 5:\n",
        "    soma1 += 1\n",
        "  elif (num % 3) == 0:\n",
        "    soma2 += 1\n",
        "\n",
        "print('\\n')                     # força uma quebra de linha\n",
        "print('Maior que 5: ', soma1)\n",
        "print('Divie por 3: ', soma2)\n"
      ],
      "metadata": {
        "id": "2i4vl-diHVRb",
        "colab": {
          "base_uri": "https://localhost:8080/"
        },
        "outputId": "1c4a61e7-fd9b-46dd-c0af-e703900aaf69"
      },
      "execution_count": null,
      "outputs": [
        {
          "output_type": "stream",
          "name": "stdout",
          "text": [
            "8 7 8 4 10 10 0 10 7 10 6 3 9 1 4 6 6 8 5 6 \n",
            "\n",
            "Maior que 5:  14\n",
            "Divie por 3:  2\n"
          ]
        }
      ]
    },
    {
      "cell_type": "markdown",
      "source": [
        "###51)\n",
        "Faça um aplicativo que leia o preço de 8 produtos. No final, mostre na tela\n",
        "qual foi o maior e qual foi o menor preço digitados."
      ],
      "metadata": {
        "id": "hHJGMqdVGtp2"
      }
    },
    {
      "cell_type": "code",
      "source": [
        "cont = menor = maior = 0\n",
        "\n",
        "while cont < 8:\n",
        "  cont += 1\n",
        "  valor = float(input(f\"Valor do {cont}º produto: \"))\n",
        "  if cont == 1:                # Se for o primeiro produto\n",
        "    maior = menor = valor      # Define tanto maior quanto menor como o valor do primeiro produto\n",
        "  else:\n",
        "    if valor > maior:          # Verifico se o valor atual é maior que o maior valor registrado\n",
        "      maior = valor            # Atualizo o maior valor\n",
        "    elif valor < menor:        # Verifico se o valor atual é menor que o menor valor registrado\n",
        "      menor = valor            # Atualizo o menor valor\n",
        "\n",
        "print()\n",
        "print('Maior: ',maior)\n",
        "print('Menor: ',menor)\n"
      ],
      "metadata": {
        "id": "ZRpU8ICbGvuS"
      },
      "execution_count": null,
      "outputs": []
    },
    {
      "cell_type": "markdown",
      "source": [
        "###52)\n",
        "Crie um algoritmo que leia a idade de 10 pessoas, mostrando no final:\n",
        "\n",
        "a) Qual é a média de idade do grupo\n",
        "\n",
        "b) Quantas pessoas tem mais de 18 anos\n",
        "\n",
        "c) Quantas pessoas tem menos de 5 anos\n",
        "\n",
        "d) Qual foi a maior idade lida"
      ],
      "metadata": {
        "id": "s0hYnUZIG3IV"
      }
    },
    {
      "cell_type": "code",
      "source": [
        "cont = mais18 = menos5 = idade_atual = maior = menor = 0\n",
        "\n",
        "while cont < 10:\n",
        "    cont += 1\n",
        "    idade = int(input(f'{cont}) Idade: '))\n",
        "    idade_atual += idade\n",
        "\n",
        "    if cont == 1:\n",
        "        maior = menor = idade\n",
        "    else:\n",
        "        if idade > maior:\n",
        "            maior = idade\n",
        "        if idade < menor:\n",
        "            menor = idade\n",
        "\n",
        "    if idade > 18:\n",
        "        mais18 += 1\n",
        "    if idade < 5:\n",
        "        menos5 += 1\n",
        "\n",
        "media_idade = idade_atual / cont\n",
        "\n",
        "print()\n",
        "print('Média da idade do grupo: ', float(media_idade))\n",
        "print('Quantidade de pessoas com mais de 18 anos: ', mais18)\n",
        "print('Quantidade de pessoas com menos de 5 anos: ', menos5)\n",
        "print('Maior idade lida: ', maior)\n",
        "print('Menor idade lida: ', menor)\n"
      ],
      "metadata": {
        "id": "cPpBQpxGG8S4"
      },
      "execution_count": null,
      "outputs": []
    },
    {
      "cell_type": "markdown",
      "source": [
        "###53)\n",
        "Faça um programa que leia a idade e o sexo de 5 pessoas, mostrando no final:\n",
        "\n",
        "a) Quantos homens foram cadastrados\n",
        "\n",
        "b) Quantas mulheres foram cadastradas\n",
        "\n",
        "c) A média de idade do grupo\n",
        "\n",
        "d) A média de idade dos homens\n",
        "\n",
        "e) Quantas mulheres tem mais de 20 anos"
      ],
      "metadata": {
        "id": "pqVicgdQHBa-"
      }
    },
    {
      "cell_type": "code",
      "source": [
        "cont = homem = mulher = idade_atual = idade_homem = idade_mulher_mais20 = 0\n",
        "\n",
        "while cont < 5:\n",
        "    idade = int(input('Digite a sua idade: '))\n",
        "    sexo = input('Digite o sexo F/M: ').upper()\n",
        "    print()\n",
        "\n",
        "    cont += 1\n",
        "    idade_atual += idade\n",
        "\n",
        "    if sexo == 'F':\n",
        "        mulher += 1\n",
        "        if idade > 20:\n",
        "            idade_mulher_mais20 += 1\n",
        "    else:\n",
        "        homem += 1\n",
        "        idade_homem += idade\n",
        "\n",
        "media_idade = idade_atual / cont\n",
        "media_idade_homem = idade_homem / homem if homem > 0 else 0\n",
        "\n",
        "print('Quantidade de homens cadastrados: ', homem)\n",
        "print('Quantidade de mulheres cadastradas: ', mulher)\n",
        "print(f'Média da idade do grupo: {float(media_idade):.2f}')\n",
        "print(f'Média da idade dos homens: {media_idade_homem:.2f} ')\n",
        "print('Quantidade de mulheres com mais de 20 anos: ', idade_mulher_mais20)\n"
      ],
      "metadata": {
        "id": "Ar9kXP4NHGAE"
      },
      "execution_count": null,
      "outputs": []
    },
    {
      "cell_type": "markdown",
      "source": [
        "###54)\n",
        "Desenvolva um aplicativo que leia o peso e a altura de 7 pessoas, mostrando\n",
        "no final:\n",
        "\n",
        "a) Qual foi a média de altura do grupo\n",
        "\n",
        "b) Quantas pessoas pesam mais de 90Kg\n",
        "\n",
        "c) Quantas pessoas que pesam menos de 50Kg tem menos de 1.60m\n",
        "\n",
        "d) Quantas pessoas que medem mais de 1.90m pesam mais de 100Kg."
      ],
      "metadata": {
        "id": "xTT0as__HJZY"
      }
    },
    {
      "cell_type": "code",
      "source": [
        "cont = altura_atual = peso_maior90 = menor_50 = maior_90 = 0.0\n",
        "\n",
        "while cont < 7:\n",
        "    peso = float(input('Peso: '))\n",
        "    altura = float(input('Altura: '))\n",
        "    print()\n",
        "\n",
        "    cont += 1\n",
        "    altura_atual += altura\n",
        "\n",
        "    if peso > 90:\n",
        "        peso_maior90 += 1\n",
        "    if peso < 50 and altura < 1.60:\n",
        "        menor_50 += 1\n",
        "    if peso > 100 and altura > 1.9:\n",
        "        maior_90 += 1\n",
        "\n",
        "media_altura = altura_atual / cont\n",
        "\n",
        "print('Média da altura: ', round(media_altura, 2))\n",
        "print('Quantidade de pessoas com mais de 90kg: ', peso_maior90)\n",
        "print('Quantidade de pessoas com menos de 1,60m de altura e peso menor que 50kg: ', menor_50)\n",
        "print('Quantidade de pessoas com mais de 1,90m de altura e peso maior que 90kg: ', round(maior_90))\n"
      ],
      "metadata": {
        "id": "iXWU5dtIHM7v"
      },
      "execution_count": null,
      "outputs": []
    },
    {
      "cell_type": "markdown",
      "source": [
        "###55)\n",
        "Vamos melhorar o jogo que fizemos no exercício 32. A partir de\n",
        "agora, o computador vai sortear um número entre 1 e 10 e o jogador vai ter 4\n",
        "tentativas para tentar acertar."
      ],
      "metadata": {
        "id": "PjFoqi3qH8rQ"
      }
    },
    {
      "cell_type": "code",
      "source": [
        "import random\n",
        "\n",
        "x = random.randint(1, 10)\n",
        "cont = 0\n",
        "\n",
        "while cont < 4:\n",
        "    num = int(input('Qual o número sorteado: '))\n",
        "    if num == x:\n",
        "        print('Número Igual, VOCÊ ACERTOU!!!')\n",
        "        break\n",
        "    else:\n",
        "        cont += 1\n",
        "        print(f'Números diferentes, você tem {4 - cont} tentativas restantes')\n",
        "\n",
        "if cont == 4:\n",
        "    print(f'Você usou todas as tentativas. O número sorteado era {x}.')\n"
      ],
      "metadata": {
        "id": "Itf7N0o3IDKG"
      },
      "execution_count": null,
      "outputs": []
    }
  ]
}