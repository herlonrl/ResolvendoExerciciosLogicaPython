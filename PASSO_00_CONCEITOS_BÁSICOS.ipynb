{
  "nbformat": 4,
  "nbformat_minor": 0,
  "metadata": {
    "colab": {
      "provenance": [],
      "collapsed_sections": [
        "j6n72LqI1S4h"
      ]
    },
    "kernelspec": {
      "name": "python3",
      "display_name": "Python 3"
    },
    "language_info": {
      "name": "python"
    }
  },
  "cells": [
    {
      "cell_type": "markdown",
      "source": [
        "# VARIÁVEIS NO PYTHON"
      ],
      "metadata": {
        "id": "j6n72LqI1S4h"
      }
    },
    {
      "cell_type": "markdown",
      "source": [
        "**O que são variáveis?**\n",
        "Variáveis são como \"caixinhas\" onde você pode guardar informações que seu programa vai usar. Pense nelas como etiquetas que você coloca em diferentes tipos de dados para poder acessá-los e manipulá-los mais tarde.\n",
        "**Variáveis são fundamentais em qualquer linguagem de programação, pois permitem que você armazene e manipule dados de forma eficiente.**\n",
        "\n",
        "**Conceitos:**\n",
        "\n",
        "*Declaração:* É quando você cria uma variável e dá um nome a ela.\n",
        "\n",
        "*- Python é uma linguagem dinamicamente tipada, o que significa que não é necessário declarar o tipo de variável ou fazer casting (mudar o tipo de variável), pois o Interpretador se encarrega disso para nós!*\n",
        "\n",
        "*Atribuição:* É quando você coloca um valor dentro da variável.\n",
        "\n",
        "`idade = 25`\n",
        "\n",
        "*Tipos de Dados:* Variáveis podem armazenar diferentes tipos de dados, como números, textos, listas, etc.\n",
        "\n",
        "`altura = 1.75 `  # número decimal \\\n",
        "`possuiCNH = True` # valor booleano\n",
        "\n",
        "**Práticas**\n",
        "\n",
        "*Nomeação:* Use nomes significativos para suas variáveis para que o código seja\n",
        "fácil de entender.\n",
        "\n",
        "`salario_mensal = 3000`\n",
        "\n",
        "*Reutilização:* Você pode mudar o valor de uma variável ao longo do programa.\n",
        "\n",
        "`contador = 0`\n",
        "\n",
        "`contador = contador + 1`\n",
        "\n",
        "*Escopo:* Variáveis podem ter diferentes \"alcances\" dentro do código, como dentro de funções ou em todo o programa.\n",
        "\n",
        "\n",
        "```\n",
        "def minha_funcao():\n",
        "    local = \"dentro da função\"\n",
        "```\n",
        "\n"
      ],
      "metadata": {
        "id": "lqhvBIpe19gM"
      }
    },
    {
      "cell_type": "markdown",
      "source": [
        "\n",
        "\n",
        "---\n",
        "\n"
      ],
      "metadata": {
        "id": "MEkUIVK860ot"
      }
    },
    {
      "cell_type": "markdown",
      "source": [
        "# TIPOS DE VÁRIAVEIS"
      ],
      "metadata": {
        "id": "NDCN68Ir7EW4"
      }
    },
    {
      "cell_type": "markdown",
      "source": [
        "Esses são alguns dos tipos de variáveis que você pode usar em Python. Cada um tem suas próprias características e usos específicos, tornando a linguagem bastante flexível e poderosa. Já experimentou usar todos esses tipos em seus projetos?\n",
        "\n",
        "**Inteiros (int)**\n",
        "\n",
        "`idade = 30`\n",
        "\n",
        "**Números de Ponto Flutuante (float)**\n",
        "\n",
        "`altura = 1.75`\n",
        "\n",
        "**Strings (str)**\n",
        "\n",
        "`nome = \"Ana\"`\n",
        "\n",
        "**Listas (list)**\n",
        "\n",
        "`frutas = [\"maçã\", \"banana\", \"laranja\"]`\n",
        "\n",
        "**Dicionários (dict)**\n",
        "\n",
        "`pessoa = {\"nome\": \"Ana\", \"idade\": 30, \"altura\": 1.75}`\n",
        "\n",
        "**Conjuntos (set)**\n",
        "\n",
        "`numeros_unicos = {1, 2, 3, 4, 5}`\n",
        "\n",
        "**Tuplas (tuple)**\n",
        "\n",
        "`coordenadas = (10.0, 20.0)`\n",
        "\n",
        "**Booleanos (bool)**\n",
        "\n",
        "`is_programmer = True`\n",
        "\n",
        "**Nenhum Tipo (NoneType)**\n",
        "\n",
        "`nada = None`"
      ],
      "metadata": {
        "id": "JZtieyUm1ckF"
      }
    },
    {
      "cell_type": "markdown",
      "source": [
        "# **PRÓXIMOS PASSOS**"
      ],
      "metadata": {
        "id": "pQHB0RhwGuZb"
      }
    },
    {
      "cell_type": "markdown",
      "source": [
        "### **PASSO 01 - SEQUÊNCIAS BÁSICAS**\n",
        "- **Comandos necessários**:\n",
        "  - `print()`: Exibir mensagens no console.\n",
        "  - `input()`: Receber entradas do usuário.\n",
        "  - `int()`, `float()`, `str()`: Converter valores entre diferentes tipos de dados.\n",
        "  - Operadores aritméticos (`+`, `-`, `*`, `/`, etc.): Realizar cálculos."
      ],
      "metadata": {
        "id": "M9XTTsuuZb_S"
      }
    },
    {
      "cell_type": "markdown",
      "source": [
        "### **PASSO 02 - CONDIÇÕES BÁSICAS**\n",
        "- **Comandos necessários**:\n",
        "  - `if`, `else`: Estruturas condicionais básicas.\n",
        "  - Operadores relacionais (`>`, `<`, `==`, `!=`, `>=`, `<=`): Comparações.\n",
        "  - Operadores lógicos (`and`, `or`, `not`): Combinar condições."
      ],
      "metadata": {
        "id": "46T-nx8TZkab"
      }
    },
    {
      "cell_type": "markdown",
      "source": [
        "### **PASSO 03 - CONDIÇÕES COMPOSTAS**\n",
        "- **Comandos necessários**:\n",
        "  - `if`, `elif`, `else`: Estruturas condicionais para múltiplos cenários.\n",
        "  - Estruturas de controle de fluxo combinadas com cálculos e lógica."
      ],
      "metadata": {
        "id": "tgggLBfZZwGW"
      }
    },
    {
      "cell_type": "markdown",
      "source": [
        "### **PASSO 04 - REPETIÇÕES ENQUANTO**\n",
        "- **Comandos necessários**:\n",
        "  - `while`: Estrutura de repetição baseada em uma condição.\n",
        "  - Contadores e acumuladores (ex.: `i += 1` ou `soma += valor`).\n",
        "  - `break`: Encerrar um laço de repetição.\n",
        "  - `continue`: Pular para a próxima iteração."
      ],
      "metadata": {
        "id": "1HLJiSFyZzfS"
      }
    },
    {
      "cell_type": "markdown",
      "source": [
        "### **PASSO 05 - ENQUANTO COM FLAG**\n",
        "- **Comandos necessários**:\n",
        "  - `while`: Estrutura de repetição até atingir uma condição.\n",
        "  - Uso de uma variável como \"flag\" para controle do loop."
      ],
      "metadata": {
        "id": "aX5J3-F_bIcO"
      }
    },
    {
      "cell_type": "markdown",
      "source": [
        "### **PASSO 06 - REPETIÇÃO COM FAÇA ENQUANTO**\n",
        "- **Comandos necessários**:\n",
        "  - Laços simulando um \"faça enquanto\" com a lógica `while True` e `break`.\n",
        "  - `if` combinado com `break` para encerrar o loop.\n"
      ],
      "metadata": {
        "id": "v4fsQlrJbUwk"
      }
    },
    {
      "cell_type": "markdown",
      "source": [
        "### **PASSO 07 - REPETIÇÃO COM PARA**\n",
        "- **Comandos necessários**:\n",
        "  - `for` com `range()`: Estrutura de repetição com contagem específica.\n",
        "  - Listas para iterar e armazenar valores quando necessário."
      ],
      "metadata": {
        "id": "-ds9ZPLcbwWA"
      }
    },
    {
      "cell_type": "markdown",
      "source": [
        "### **PASSO 08 - VETORES**\n",
        "- **Comandos necessários**:\n",
        "  - Listas (`list`): Estruturas para armazenar e manipular coleções de dados.\n",
        "  - Métodos como `append()`, `sort()`, `index()`, etc.\n",
        "  - Funções como `len()` para tamanho e `sum()` para soma."
      ],
      "metadata": {
        "id": "kBCxD8bQcKqM"
      }
    },
    {
      "cell_type": "markdown",
      "source": [
        "### **PASSO 09 - PROCEDIMENTOS**\n",
        "- **Comandos necessários**:\n",
        "  - `def`: Definir funções/procedimentos.\n",
        "  - Passagem de parâmetros para funções.\n",
        "  - Combinar lógica interna com funções reutilizáveis."
      ],
      "metadata": {
        "id": "RYrcKP9kcikP"
      }
    },
    {
      "cell_type": "markdown",
      "source": [
        "### **PASSO 10 - FUNÇÕES COM RETORNO**\n",
        "- **Comandos necessários**:\n",
        "  - `def`: Definir funções que retornam valores.\n",
        "  - `return`: Retornar resultados ao chamador da função.\n",
        "  - Combinar lógica de funções com controle de fluxo."
      ],
      "metadata": {
        "id": "dfxy43kPdFbp"
      }
    }
  ]
}