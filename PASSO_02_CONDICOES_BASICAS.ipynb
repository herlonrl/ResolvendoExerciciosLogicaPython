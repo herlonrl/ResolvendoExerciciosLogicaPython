{
  "nbformat": 4,
  "nbformat_minor": 0,
  "metadata": {
    "colab": {
      "provenance": [],
      "collapsed_sections": [
        "qSLBI4ONJWpl",
        "bA4XFxb0JeRc",
        "-221Em0cfzd6",
        "XCnW09XhANiv",
        "v57OpxKO6vNM",
        "Yp1oxwJI9IRZ",
        "_HOq1W3XoVcb",
        "J9XbO0OcAH5t",
        "i-Mhp6OA-SSw",
        "J0lmFLXp_PSm"
      ]
    },
    "kernelspec": {
      "name": "python3",
      "display_name": "Python 3"
    },
    "language_info": {
      "name": "python"
    }
  },
  "cells": [
    {
      "cell_type": "markdown",
      "source": [
        "# PASSO 02 - CONDIÇÕES BÁSICAS\n",
        "\n",
        "- `if`: Inicia uma condição.\n",
        "- `else`: Define o bloco de código a ser executado se a condição `if` for falsa.\n",
        "- Operadores relacionais (`>`, `<`, `==`, `!=`, `>=`, `<=`): Comparações.\n",
        "- Operadores lógicos (`and`, `or`, `not`): Combinar condições.\n",
        "\n",
        "**Exemplo:**\n",
        "\n",
        "```python\n",
        "idade = int(input(\"Quantos anos você tem? \"))\n",
        "if idade >= 18:\n",
        "    print(\"Você é maior de idade.\")\n",
        "else:\n",
        "    print(\"Você é menor de idade.\")\n",
        "```"
      ],
      "metadata": {
        "id": "qSLBI4ONJWpl"
      }
    },
    {
      "cell_type": "markdown",
      "source": [
        "###17)\n",
        "Escreva um programa que pergunte a velocidade de um carro. Caso ultrapasse\n",
        "80Km/h, exiba uma mensagem dizendo que o usuário foi multado. Nesse caso, exiba\n",
        "o valor da multa, cobrando R$5 por cada Km acima da velocidade permitida."
      ],
      "metadata": {
        "id": "bA4XFxb0JeRc"
      }
    },
    {
      "cell_type": "code",
      "source": [
        "velocidade_carro = float(input('Qual a velocidade do carro? '))       # pergunta a velocidade do carro convertendo a resposta em uma váriavel float (ponto flutuante)\n",
        "\n",
        "if velocidade_carro > 80:                                             # inicio de uma condicional - velociada é maior que 80\n",
        "  multa = (velocidade_carro - 80) * 5                                 # condicional for verdadeira calcula multa\n",
        "  print(f'Valor da multa pelo excesso de velocidade R$ {multa:.2f}')  # mostra mensagem na tela\n",
        "else:                                                                 # codição sendo falsa execute o proximo código - velocidade menor que 80\n",
        "  print('Sem multa')                                                  # mostra na tela mensagem\n"
      ],
      "metadata": {
        "id": "5y-oYwP9JoVI"
      },
      "execution_count": null,
      "outputs": []
    },
    {
      "cell_type": "markdown",
      "source": [
        "###18)\n",
        " Faça um programa que leia o ano de nascimento de uma pessoa, calcule a idade\n",
        "dela e depois mostre se ela pode ou não votar"
      ],
      "metadata": {
        "id": "-221Em0cfzd6"
      }
    },
    {
      "cell_type": "code",
      "source": [
        "from datetime import date                          # importa o classe 'date' de módulo 'datetime', permitindo manipular datas\n",
        "\n",
        "ano_nascimento = int(input('Digite o ano de nascimento completo (AAAA): '))\n",
        "\n",
        "idade = date.today().year - ano_nascimento         # obtem a data atual e extrai somente o ano, depois diminui do ano informado\n",
        "\n",
        "if idade >= 16:                                    # inicio a condicional\n",
        "    print(f'Você tem {idade} anos e pode votar.')\n",
        "else:\n",
        "    print(f'Você tem {idade} anos e não pode votar.')\n"
      ],
      "metadata": {
        "id": "pwU-NEeLf1ZI"
      },
      "execution_count": null,
      "outputs": []
    },
    {
      "cell_type": "markdown",
      "source": [
        "###19)\n",
        "Crie um algoritmo que leia o nome e as duas notas de um aluno, calcule a sua\n",
        "média e mostre na tela. No final, analise a média e mostre se o aluno teve ou\n",
        "não um bom aproveitamento (se ficou acima da média 7.0)."
      ],
      "metadata": {
        "id": "XCnW09XhANiv"
      }
    },
    {
      "cell_type": "code",
      "source": [
        "nome = input('Digite o nome do aluno: ')\n",
        "nota1 = float(input('Digite a primeira nota: '))\n",
        "nota2 = float(input('Digite a segunda nota: '))\n",
        "\n",
        "media = (nota1 + nota2) / 2\n",
        "\n",
        "if media >= 7.0:\n",
        "    print(f'{nome} teve um bom aproveitamento com média {media:.2f}.')\n",
        "else:\n",
        "    print(f'{nome} não teve um bom aproveitamento com média {media:.2f}.')\n"
      ],
      "metadata": {
        "id": "kW_v78DmAQOs"
      },
      "execution_count": null,
      "outputs": []
    },
    {
      "cell_type": "markdown",
      "source": [
        "###20)\n",
        "Desenvolva um programa que leia um número inteiro e mostre se ele é PAR ou\n",
        "ÍMPAR."
      ],
      "metadata": {
        "id": "v57OpxKO6vNM"
      }
    },
    {
      "cell_type": "code",
      "source": [
        "# Forma concisa de usar uma expressão condicional em Python.\n",
        "# (numero % 2 == 0) esta expressão verifica se o número é par.\n",
        "# if verifica se a condição (numero % 2 == 0) é verdadeira.\n",
        "# \"PAR\": Se a condição for verdadeira.\n",
        "# else: Se a condição for falsa é \"ÍMPAR\".\n",
        "\n",
        "numero = int(input('Digite um número inteiro: '))\n",
        "\n",
        "tipo = \"PAR\" if numero % 2 == 0 else \"ÍMPAR\"\n",
        "\n",
        "print(f'{numero} é um número {tipo}')\n"
      ],
      "metadata": {
        "id": "pGM67qZg6w1r"
      },
      "execution_count": null,
      "outputs": []
    },
    {
      "cell_type": "markdown",
      "source": [
        "###21)\n",
        "Faça um algoritmo que leia um determinado ano e mostre se ele é ou não\n",
        "BISSEXTO."
      ],
      "metadata": {
        "id": "Yp1oxwJI9IRZ"
      }
    },
    {
      "cell_type": "code",
      "source": [
        "# Um ano é bissexto se for divisível por 4 e não por 100, ou se for divisível por 400.\n",
        "# ano % 4 == 0:        Verifica se o ano é divisível por 4. Se for, pode ser um ano bissexto.\n",
        "# and ano % 100 != 0:  Verifica se o ano não é divisível por 100. Se não for, ainda pode ser um ano bissexto.\n",
        "# or (ano % 400 == 0): Verifica se o ano é divisível por 400. Se for, é definitivamente um ano bissexto.\n",
        "ano = int(input('Digite o ano: '))\n",
        "\n",
        "if (ano % 4 == 0 and ano % 100 != 0) or (ano % 400 == 0):\n",
        "    print(f'O ano {ano} é BISSEXTO')\n",
        "else:\n",
        "    print(f'O ano {ano} não é BISSEXTO')\n"
      ],
      "metadata": {
        "id": "Y_g3EN_39Gel"
      },
      "execution_count": null,
      "outputs": []
    },
    {
      "cell_type": "markdown",
      "source": [
        "###22)\n",
        "Escreva um programa que leia o ano de nascimento de um rapaz e mostre a sua\n",
        "situação em relação ao alistamento militar.\n",
        "- Se estiver antes dos 18 anos, mostre em quantos anos faltam para o\n",
        "alistamento.\n",
        "- Se já tiver depois dos 18 anos, mostre quantos anos já se passaram do\n",
        "alistamento."
      ],
      "metadata": {
        "id": "_HOq1W3XoVcb"
      }
    },
    {
      "cell_type": "code",
      "source": [
        "from datetime import date  # Importa a classe 'date' do módulo 'datetime', permitindo manipular datas\n",
        "\n",
        "ano_nascimento = int(input('Ano de Nascimento: '))\n",
        "ano_atual = date.today().year\n",
        "\n",
        "idade = ano_atual - ano_nascimento\n",
        "\n",
        "if idade > 18:\n",
        "    print(f'Passou {idade - 18} anos do alistamento.')\n",
        "else:\n",
        "    if idade < 18:\n",
        "        print(f'Você vai se alistar em {18 - idade} anos.')\n",
        "    else:\n",
        "        print('Este é o ano do seu alistamento.')\n"
      ],
      "metadata": {
        "id": "iAXp845SofHz"
      },
      "execution_count": null,
      "outputs": []
    },
    {
      "cell_type": "markdown",
      "source": [
        "###23)\n",
        "Numa promoção exclusiva para o Dia da Mulher, uma loja quer dar descontos\n",
        "para todos, mas especialmente para mulheres. Faça um programa que leia nome,\n",
        "sexo e o valor das compras do cliente e calcule o preço com desconto. Sabendo\n",
        "que:\n",
        "- Homens ganham 5% de desconto\n",
        "- Mulheres ganham 13% de desconto"
      ],
      "metadata": {
        "id": "J9XbO0OcAH5t"
      }
    },
    {
      "cell_type": "code",
      "source": [
        "nome = input('Nome: ')\n",
        "sexo = input('Sexo (F/M): ').upper()       # converte a string para maiúscula\n",
        "valor_compra = float(input('Valor R$ '))\n",
        "\n",
        "if sexo == 'F':\n",
        "    valor_desconto = valor_compra * 0.87  # 13% de desconto\n",
        "else:\n",
        "    valor_desconto = valor_compra * 0.95  # 5% de desconto\n",
        "\n",
        "print(f'Valor a pagar R$ {valor_desconto:.2f}')\n"
      ],
      "metadata": {
        "id": "aEZnMYFwAJaG"
      },
      "execution_count": null,
      "outputs": []
    },
    {
      "cell_type": "markdown",
      "source": [
        "###24)\n",
        "Faça um algoritmo que pergunte a distância que um passageiro deseja\n",
        "percorrer em Km. Calcule o preço da passagem, cobrando R\\$0.50 por Km para\n",
        "viagens até 200Km e R\\$0.45 para viagens mais longas."
      ],
      "metadata": {
        "id": "i-Mhp6OA-SSw"
      }
    },
    {
      "cell_type": "code",
      "source": [
        "distancia = float(input('Distância em Km: '))\n",
        "\n",
        "if distancia <= 200:\n",
        "    valor_pagar = distancia * 0.5\n",
        "else:\n",
        "    valor_pagar = distancia * 0.45\n",
        "\n",
        "print(f'Total a pagar: R$ {valor_pagar:.2f}')\n"
      ],
      "metadata": {
        "id": "JPubDKDX-Ttu"
      },
      "execution_count": null,
      "outputs": []
    },
    {
      "cell_type": "markdown",
      "source": [
        "### 25)\n",
        "Crie um programa que leia o tamanho de três segmentos de reta.\n",
        "Analise seus comprimentos e diga se é possível formar um triângulo com essas\n",
        "retas. Matematicamente, para três segmentos formarem um triângulo, o comprimento\n",
        "de cada lado deve ser menor que a soma dos outros dois."
      ],
      "metadata": {
        "id": "J0lmFLXp_PSm"
      }
    },
    {
      "cell_type": "code",
      "source": [
        "# ladoA < ladoB + ladoC:     Verifica se o comprimento do lado A é menor que a soma dos comprimentos dos lados B e C.\n",
        "# and ladoB < ladoA + ladoC: Verifica se o comprimento do lado B é menor que a soma dos comprimentos dos lados A e C.\n",
        "# and ladoC < ladoA + ladoB: Verifica se o comprimento do lado C é menor que a soma dos comprimentos dos lados A e B.\n",
        "\n",
        "ladoA = float(input('Digite o primeiro valor: '))\n",
        "ladoB = float(input('Digite o segundo valor: '))\n",
        "ladoC = float(input('Digite o terceiro valor: '))\n",
        "\n",
        "if ladoA < ladoB + ladoC and ladoB < ladoA + ladoC and ladoC < ladoA + ladoB:\n",
        "    print('Forma Triângulo')\n",
        "else:\n",
        "    print('Não forma Triângulo')\n"
      ],
      "metadata": {
        "id": "rpBCt3aW_ZXz"
      },
      "execution_count": null,
      "outputs": []
    }
  ]
}